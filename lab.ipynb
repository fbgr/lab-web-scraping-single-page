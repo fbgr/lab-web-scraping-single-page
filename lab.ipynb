{
 "cells": [
  {
   "cell_type": "code",
   "execution_count": 1,
   "id": "3ef32bc3",
   "metadata": {},
   "outputs": [],
   "source": [
    "from bs4 import BeautifulSoup\n",
    "import requests\n",
    "import pandas as pd\n",
    "import numpy as np\n",
    "from time import sleep"
   ]
  },
  {
   "cell_type": "code",
   "execution_count": 2,
   "id": "4802afaa",
   "metadata": {},
   "outputs": [],
   "source": [
    "def reading_top(page):\n",
    "    # function that reads top 100 songs from a popvortex ranking\n",
    "    headers = {\"Accept-Language\": \"en-US,en;q=0.5\"}\n",
    "    url = page\n",
    "\n",
    "    response = requests.get(url,headers=headers)\n",
    "    response.status_code \n",
    "    soup = BeautifulSoup(response.content, \"html.parser\")\n",
    "\n",
    "    #initialize empty lists\n",
    "    title = []\n",
    "    singers = []\n",
    "    genre = []\n",
    "\n",
    "    # define the number of iterations of our for loop\n",
    "    # by checking how many elements are in the retrieved result set\n",
    "    # (this is equivalent but more robust than just explicitly defining 250 iterations)\n",
    "    num_iter = len(soup.select(\"div.chart-content\"))\n",
    "\n",
    "    title_list = soup.select(\"div.chart-content p.title-artist cite.title\")\n",
    "    singer_list = soup.select(\"div.chart-content p.title-artist em.artist\")\n",
    "\n",
    "    genre_list = soup.select(\"div.chart-content ul li\")\n",
    "    # removing extra elements that are not the genre\n",
    "    for i in reversed(range(len(genre_list))):\n",
    "        if 'Genre' in str(genre_list[i]) or 'Gênero' in str(genre_list[i]) or 'ジャンル' in str(genre_list[i]): \n",
    "            pass\n",
    "        else:\n",
    "            del genre_list[i]\n",
    "            \n",
    "    # removing extra text that is not the genre\n",
    "    for i in range(len(genre_list)):\n",
    "        genre_list[i] = genre_list[i].get_text().replace('Genre: ','')\n",
    "        genre_list[i] = genre_list[i].replace('ジャンル: ','')\n",
    "        genre_list[i] = genre_list[i].replace('Gênero: ','')\n",
    "\n",
    "\n",
    "    # iterate through the result set and retrive all the data\n",
    "    for i in range(num_iter):\n",
    "        title.append(title_list[i].get_text())\n",
    "        singers.append(singer_list[i].get_text().replace(' & ',',').replace('&',','))\n",
    "        genre.append(genre_list[i].replace(' / ',',').replace('/',','))\n",
    "\n",
    "    \n",
    "    dataframe = pd.DataFrame({\"title\":title,\n",
    "                           \"singers\":singers,\n",
    "                           \"genre\":genre\n",
    "                          })\n",
    "\n",
    "    # each list becomes a column\n",
    "    return dataframe"
   ]
  },
  {
   "cell_type": "code",
   "execution_count": 3,
   "id": "c06d7480",
   "metadata": {},
   "outputs": [],
   "source": [
    "# Reading the first international TOP 100\n",
    "songs = reading_top('https://www.popvortex.com/music/charts/top-100-songs.php')"
   ]
  },
  {
   "cell_type": "code",
   "execution_count": 4,
   "id": "65f1170d",
   "metadata": {},
   "outputs": [
    {
     "data": {
      "text/html": [
       "<div>\n",
       "<style scoped>\n",
       "    .dataframe tbody tr th:only-of-type {\n",
       "        vertical-align: middle;\n",
       "    }\n",
       "\n",
       "    .dataframe tbody tr th {\n",
       "        vertical-align: top;\n",
       "    }\n",
       "\n",
       "    .dataframe thead th {\n",
       "        text-align: right;\n",
       "    }\n",
       "</style>\n",
       "<table border=\"1\" class=\"dataframe\">\n",
       "  <thead>\n",
       "    <tr style=\"text-align: right;\">\n",
       "      <th></th>\n",
       "      <th>title</th>\n",
       "      <th>singers</th>\n",
       "      <th>genre</th>\n",
       "    </tr>\n",
       "  </thead>\n",
       "  <tbody>\n",
       "    <tr>\n",
       "      <th>0</th>\n",
       "      <td>Unholy</td>\n",
       "      <td>Sam Smith,Kim Petras</td>\n",
       "      <td>Pop</td>\n",
       "    </tr>\n",
       "    <tr>\n",
       "      <th>1</th>\n",
       "      <td>Face It Alone</td>\n",
       "      <td>Queen</td>\n",
       "      <td>Rock</td>\n",
       "    </tr>\n",
       "    <tr>\n",
       "      <th>2</th>\n",
       "      <td>I'm Good (Blue)</td>\n",
       "      <td>David Guetta,Bebe Rexha</td>\n",
       "      <td>Dance</td>\n",
       "    </tr>\n",
       "    <tr>\n",
       "      <th>3</th>\n",
       "      <td>Thank God</td>\n",
       "      <td>Kane Brown,Katelyn Brown</td>\n",
       "      <td>Country</td>\n",
       "    </tr>\n",
       "    <tr>\n",
       "      <th>4</th>\n",
       "      <td>wait in the truck</td>\n",
       "      <td>HARDY,Lainey Wilson</td>\n",
       "      <td>Country</td>\n",
       "    </tr>\n",
       "    <tr>\n",
       "      <th>...</th>\n",
       "      <td>...</td>\n",
       "      <td>...</td>\n",
       "      <td>...</td>\n",
       "    </tr>\n",
       "    <tr>\n",
       "      <th>95</th>\n",
       "      <td>You Should Probably Leave</td>\n",
       "      <td>Chris Stapleton</td>\n",
       "      <td>Country</td>\n",
       "    </tr>\n",
       "    <tr>\n",
       "      <th>96</th>\n",
       "      <td>Betty (Get Money)</td>\n",
       "      <td>Yung Gravy</td>\n",
       "      <td>Hip-Hop,Rap</td>\n",
       "    </tr>\n",
       "    <tr>\n",
       "      <th>97</th>\n",
       "      <td>Calm Down</td>\n",
       "      <td>Rema,Selena Gomez</td>\n",
       "      <td>Pop</td>\n",
       "    </tr>\n",
       "    <tr>\n",
       "      <th>98</th>\n",
       "      <td>One Way or Another (Hocus Pocus 2 Version)</td>\n",
       "      <td>Bette Midler, Sarah Jessica Parker,Kathy Najimy</td>\n",
       "      <td>Soundtrack</td>\n",
       "    </tr>\n",
       "    <tr>\n",
       "      <th>99</th>\n",
       "      <td>down home</td>\n",
       "      <td>Jimmie Allen</td>\n",
       "      <td>Country</td>\n",
       "    </tr>\n",
       "  </tbody>\n",
       "</table>\n",
       "<p>100 rows × 3 columns</p>\n",
       "</div>"
      ],
      "text/plain": [
       "                                         title  \\\n",
       "0                                       Unholy   \n",
       "1                                Face It Alone   \n",
       "2                              I'm Good (Blue)   \n",
       "3                                    Thank God   \n",
       "4                            wait in the truck   \n",
       "..                                         ...   \n",
       "95                   You Should Probably Leave   \n",
       "96                           Betty (Get Money)   \n",
       "97                                   Calm Down   \n",
       "98  One Way or Another (Hocus Pocus 2 Version)   \n",
       "99                                   down home   \n",
       "\n",
       "                                            singers        genre  \n",
       "0                              Sam Smith,Kim Petras          Pop  \n",
       "1                                             Queen         Rock  \n",
       "2                           David Guetta,Bebe Rexha        Dance  \n",
       "3                          Kane Brown,Katelyn Brown      Country  \n",
       "4                               HARDY,Lainey Wilson      Country  \n",
       "..                                              ...          ...  \n",
       "95                                  Chris Stapleton      Country  \n",
       "96                                       Yung Gravy  Hip-Hop,Rap  \n",
       "97                                Rema,Selena Gomez          Pop  \n",
       "98  Bette Midler, Sarah Jessica Parker,Kathy Najimy   Soundtrack  \n",
       "99                                     Jimmie Allen      Country  \n",
       "\n",
       "[100 rows x 3 columns]"
      ]
     },
     "execution_count": 4,
     "metadata": {},
     "output_type": "execute_result"
    }
   ],
   "source": [
    "songs"
   ]
  },
  {
   "cell_type": "markdown",
   "id": "68f63d08",
   "metadata": {},
   "source": [
    "# Lab | Web Scraping Multiple Pages\n",
    "I want to add the TOP 100 charts for several more countries, so first I will use webscraping to get a list of the links and the name of the countries, and then I will webscrap each single link to get the top 100 from that country."
   ]
  },
  {
   "cell_type": "code",
   "execution_count": 5,
   "id": "62ee7928",
   "metadata": {},
   "outputs": [
    {
     "name": "stdout",
     "output_type": "stream",
     "text": [
      "https://www.popvortex.com/music/itunes-charts/top-100-songs-uk.php\n",
      "United Kingdom (UK)\n"
     ]
    }
   ],
   "source": [
    "# GETTIN THE TOP 100 LINKS FOR EACH COUNTRY\n",
    "headers = {\"Accept-Language\": \"en-US,en;q=0.5\"}\n",
    "url = 'https://www.popvortex.com/charts/international-charts.php'\n",
    "\n",
    "response = requests.get(url,headers=headers)\n",
    "response.status_code \n",
    "soup = BeautifulSoup(response.content, \"html.parser\")\n",
    "\n",
    "links = []\n",
    "countries = []\n",
    "for item in soup.select('h2.country'):\n",
    "    countries.append(item.get_text())\n",
    "\n",
    "for item in soup.select(' ul li'):\n",
    "    if item.find(\"a\", string=\"Top 100 Songs\") is not None:\n",
    "        links.append(item.find(\"a\", string=\"Top 100 Songs\").get('href'))\n",
    "        \n",
    "# We only want the first 25 of countries and the first 25 of links\n",
    "links = links[0:-2]\n",
    "countries = countries[0:-1]\n",
    "\n",
    "for i,link in enumerate(links):\n",
    "    links\n",
    "    links[i] = link.replace(\"..\",\"\")\n",
    "    links[i] = 'https://www.popvortex.com' + links[i]\n",
    "\n",
    "# example\n",
    "print(links[-1])\n",
    "print(countries[-1])"
   ]
  },
  {
   "cell_type": "code",
   "execution_count": 6,
   "id": "c33a9fc0",
   "metadata": {},
   "outputs": [
    {
     "name": "stdout",
     "output_type": "stream",
     "text": [
      "I will sleep for 2 second/s before reading Australia.\n",
      "I will sleep for 1 second/s before reading Austria.\n",
      "I will sleep for 2 second/s before reading Belgium.\n",
      "I will sleep for 2 second/s before reading Brasil.\n",
      "I will sleep for 1 second/s before reading Canada.\n",
      "I will sleep for 1 second/s before reading Denmark.\n",
      "I will sleep for 2 second/s before reading Finland.\n",
      "I will sleep for 2 second/s before reading France.\n",
      "I will sleep for 1 second/s before reading Germany.\n",
      "I will sleep for 2 second/s before reading Greece.\n",
      "I will sleep for 2 second/s before reading India.\n",
      "I will sleep for 1 second/s before reading Ireland.\n",
      "I will sleep for 2 second/s before reading Italy.\n",
      "I will sleep for 2 second/s before reading Japan.\n",
      "I will sleep for 3 second/s before reading Mexico.\n",
      "I will sleep for 2 second/s before reading Netherlands.\n",
      "I will sleep for 1 second/s before reading New Zealand.\n",
      "I will sleep for 2 second/s before reading Norway.\n",
      "I will sleep for 2 second/s before reading Philippines.\n",
      "I will sleep for 1 second/s before reading Poland.\n",
      "I will sleep for 1 second/s before reading South Africa.\n",
      "I will sleep for 1 second/s before reading Spain.\n",
      "I will sleep for 2 second/s before reading Sweden.\n",
      "I will sleep for 3 second/s before reading Switzerland.\n",
      "I will sleep for 3 second/s before reading United Kingdom (UK).\n"
     ]
    }
   ],
   "source": [
    "# READING TOP COUNTRIES\n",
    "tops = {}\n",
    "for i,country in enumerate(countries):\n",
    "    wait_time = np.random.randint(1,4)\n",
    "    print(\"I will sleep for \" + str(wait_time) + \" second/s before reading \" +country+\".\")\n",
    "    sleep(wait_time)\n",
    "    tops[country] = reading_top(links[i])"
   ]
  },
  {
   "cell_type": "code",
   "execution_count": 7,
   "id": "0f933876",
   "metadata": {},
   "outputs": [],
   "source": [
    "# Creating a column to know from which list the song is coming from\n",
    "songs['from'] = 'international'\n",
    "for country in tops:\n",
    "    tops[country]['from'] = country"
   ]
  },
  {
   "cell_type": "code",
   "execution_count": 8,
   "id": "48ba3fd2",
   "metadata": {},
   "outputs": [],
   "source": [
    "# Concatenating everything\n",
    "for country in tops:\n",
    "    songs = pd.concat([songs,tops[country]],axis=0)\n",
    "    \n",
    "# dropping duplicates\n",
    "songs = songs.drop_duplicates(subset=['title'])\n",
    "\n",
    "# The index+1 is the position in the top 100 chart, so I keep the old index+1\n",
    "songs = songs.reset_index()\n",
    "songs['index'] +=1"
   ]
  },
  {
   "cell_type": "code",
   "execution_count": 10,
   "id": "4d10f584",
   "metadata": {},
   "outputs": [],
   "source": [
    "songs.to_csv('top_songs.csv',index=False)"
   ]
  },
  {
   "cell_type": "markdown",
   "id": "93c959f4",
   "metadata": {},
   "source": [
    "# Recommendation"
   ]
  },
  {
   "cell_type": "code",
   "execution_count": 11,
   "id": "90ece57f",
   "metadata": {},
   "outputs": [],
   "source": [
    "def recommend_song(record):\n",
    "    # Recommends a song from the dataframe with the same author or genre\n",
    "    \n",
    "    # first I check if the song is in the top 100\n",
    "    if record in songs['title'].values:\n",
    "        \n",
    "        # I create an empty dataframe for recommendations\n",
    "        recommendations = pd.DataFrame()\n",
    "        # I get the list of artists from the song\n",
    "        record_artists = songs[songs['title']==record]['singers']\n",
    "        # I get the list of genres from the song\n",
    "        record_genres = songs[songs['title']==record]['genre']\n",
    "        \n",
    "        # For every artist in my list of artists\n",
    "        for artist in record_artists.values[0].split(','):\n",
    "            # I add to my recommendations everything with this artist\n",
    "            recommendations = pd.concat([recommendations,songs[songs['singers'].str.split(',').apply(lambda x: any([artist == singer for singer in x]))]],axis=0)\n",
    "\n",
    "            # For every genre in my list of genres\n",
    "        for genre in record_genres.values[0].split(','):\n",
    "            # I add to my recommendations everything containing this genre\n",
    "            recommendations = pd.concat([recommendations,songs[songs['genre'].str.split(',').apply(lambda x: any([genre == genero for genero in x]))]],axis=0)               \n",
    "        # dropping duplicates because my code can easily create them if they share artist and genre\n",
    "        recommendations= recommendations.drop_duplicates(subset=['title'])\n",
    "        \n",
    "        # Dropping the record we were given because we don't want to recommend the same song\n",
    "        recommendations = recommendations[recommendations['title']!=record]\n",
    "\n",
    "        chosen_one = recommendations.iloc[np.random.randint(0,high=len(recommendations))]\n",
    "        # Returning a random value\n",
    "        print('We recommend you the song number '+str(chosen_one['index'])+' from the '+chosen_one['from']+' TOP 100 charts:')\n",
    "        return chosen_one[['title','genre','singers']]\n",
    "        \n",
    "    else:\n",
    "        return \"We don't have a recommendation for you.\""
   ]
  },
  {
   "cell_type": "code",
   "execution_count": 12,
   "id": "d1f66f5f",
   "metadata": {},
   "outputs": [
    {
     "name": "stdout",
     "output_type": "stream",
     "text": [
      "We recommend you the song number 50 from the Spain TOP 100 charts:\n"
     ]
    },
    {
     "data": {
      "text/plain": [
       "title      Qué Bonito Es Querer\n",
       "genre                       Pop\n",
       "singers         Manuel Carrasco\n",
       "Name: 1620, dtype: object"
      ]
     },
     "execution_count": 12,
     "metadata": {},
     "output_type": "execute_result"
    }
   ],
   "source": [
    "recommend_song('Unholy')"
   ]
  }
 ],
 "metadata": {
  "kernelspec": {
   "display_name": "Python 3 (ipykernel)",
   "language": "python",
   "name": "python3"
  },
  "language_info": {
   "codemirror_mode": {
    "name": "ipython",
    "version": 3
   },
   "file_extension": ".py",
   "mimetype": "text/x-python",
   "name": "python",
   "nbconvert_exporter": "python",
   "pygments_lexer": "ipython3",
   "version": "3.10.6"
  }
 },
 "nbformat": 4,
 "nbformat_minor": 5
}
