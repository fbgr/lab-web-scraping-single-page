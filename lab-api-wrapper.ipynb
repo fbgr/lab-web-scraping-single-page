{
 "cells": [
  {
   "cell_type": "code",
   "execution_count": 47,
   "id": "6b51690a",
   "metadata": {},
   "outputs": [],
   "source": [
    "import spotipy\n",
    "from spotipy.oauth2 import SpotifyClientCredentials\n",
    "from random import randint\n",
    "from time import sleep\n",
    "import pandas as pd\n",
    "import math"
   ]
  },
  {
   "cell_type": "code",
   "execution_count": 6,
   "id": "535794fa",
   "metadata": {},
   "outputs": [],
   "source": [
    "# Reading password\n",
    "secrets_file = open(\"secrets.txt\",\"r\")\n",
    "string = secrets_file.read()\n",
    "secrets_dict={}\n",
    "for line in string.split('\\n'):\n",
    "    if len(line) > 0:\n",
    "        secrets_dict[line.split(':')[0]]=line.split(':')[1]"
   ]
  },
  {
   "cell_type": "code",
   "execution_count": 7,
   "id": "e810bc3c",
   "metadata": {},
   "outputs": [],
   "source": [
    "#Initialize SpotiPy with user credentials\n",
    "sp = spotipy.Spotify(auth_manager=SpotifyClientCredentials(client_id=secrets_dict['cid'],\n",
    "client_secret=secrets_dict['csecret']))"
   ]
  },
  {
   "cell_type": "markdown",
   "id": "d3aad379",
   "metadata": {},
   "source": [
    "# Handy functions"
   ]
  },
  {
   "cell_type": "code",
   "execution_count": 8,
   "id": "83f3f896",
   "metadata": {},
   "outputs": [],
   "source": [
    "def get_full_page(playlist):\n",
    "    # it iterates through each page until the end for huge playlists or albums\n",
    "    # and returns the whole list of songs \n",
    "    results = playlist.copy()\n",
    "    tracks = results['items']\n",
    "    while results['next']!=None:\n",
    "        #sleeping\n",
    "        wait_time = randint(0,500)/1000\n",
    "        sleep(wait_time)\n",
    "        \n",
    "        results = sp.next(results)\n",
    "        tracks = tracks + results['items']\n",
    "        sleep(randint(1,3))\n",
    "    return tracks"
   ]
  },
  {
   "cell_type": "code",
   "execution_count": 9,
   "id": "beafd139",
   "metadata": {},
   "outputs": [],
   "source": [
    "def get_album_list(playlist):\n",
    "    # Gets all the albums from a list of songs by\n",
    "    # returning a list of tuples (album_name,album_id)\n",
    "    album_ids = []\n",
    "    full_playlist = get_full_page(playlist)\n",
    "    \n",
    "    for song in full_playlist:\n",
    "        album_id = (song['track']['album']['name'],song['track']['album']['id'])\n",
    "        \n",
    "        if album_id not in album_ids:\n",
    "            album_ids.append(album_id)\n",
    "            \n",
    "    return album_ids"
   ]
  },
  {
   "cell_type": "code",
   "execution_count": 10,
   "id": "141e9fd4",
   "metadata": {},
   "outputs": [],
   "source": [
    "def get_songs_from_album_list(album_list):\n",
    "    # Iterates through each album and adds all its song to a new dataframe that a new\n",
    "    # list that is returned\n",
    "    songs = []\n",
    "    for album,album_id in album_list:\n",
    "        #sleeping\n",
    "        wait_time = randint(0,250)/1000\n",
    "        sleep(wait_time)\n",
    "        \n",
    "        #reading album tracks\n",
    "        full_album = get_full_page(sp.album_tracks(album_id))\n",
    "        \n",
    "        #appending records to songs\n",
    "        songs = songs + full_album\n",
    "        \n",
    "    return songs"
   ]
  },
  {
   "cell_type": "code",
   "execution_count": 88,
   "id": "50d441db",
   "metadata": {},
   "outputs": [],
   "source": [
    "def done_alarm():\n",
    "    import beepy\n",
    "    beepy.beep(sound=1)\n",
    "    beepy.beep(sound=1)\n",
    "    beepy.beep(sound=1)\n",
    "    beepy.beep(sound=1)\n",
    "    beepy.beep(sound=1)\n",
    "    beepy.beep(sound=5)\n",
    "    return"
   ]
  },
  {
   "cell_type": "code",
   "execution_count": null,
   "id": "757677c9",
   "metadata": {},
   "outputs": [],
   "source": []
  },
  {
   "cell_type": "markdown",
   "id": "e9994e40",
   "metadata": {},
   "source": [
    "## Reading hits between 2020-2022"
   ]
  },
  {
   "cell_type": "code",
   "execution_count": 16,
   "id": "1af98d03",
   "metadata": {},
   "outputs": [],
   "source": [
    "playlist = sp.user_playlist_tracks(\"spotify\", \"1638KZlvcvyyEJ15S8erge\")"
   ]
  },
  {
   "cell_type": "code",
   "execution_count": 17,
   "id": "529951d6",
   "metadata": {},
   "outputs": [
    {
     "name": "stdout",
     "output_type": "stream",
     "text": [
      "CPU times: user 91.5 ms, sys: 13.2 ms, total: 105 ms\n",
      "Wall time: 10.8 s\n"
     ]
    }
   ],
   "source": [
    "%%time\n",
    "full_play = get_full_page(playlist)"
   ]
  },
  {
   "cell_type": "code",
   "execution_count": 18,
   "id": "b46c44a0",
   "metadata": {},
   "outputs": [
    {
     "name": "stdout",
     "output_type": "stream",
     "text": [
      "CPU times: user 42.6 ms, sys: 4.32 ms, total: 46.9 ms\n",
      "Wall time: 6.34 s\n"
     ]
    }
   ],
   "source": [
    "%%time \n",
    "albums = get_album_list(playlist)"
   ]
  },
  {
   "cell_type": "code",
   "execution_count": 19,
   "id": "6916e77f",
   "metadata": {},
   "outputs": [
    {
     "name": "stdout",
     "output_type": "stream",
     "text": [
      "CPU times: user 1.11 s, sys: 193 ms, total: 1.3 s\n",
      "Wall time: 1min 46s\n"
     ]
    }
   ],
   "source": [
    "%%time \n",
    "dataset1 = get_songs_from_album_list(albums)"
   ]
  },
  {
   "cell_type": "code",
   "execution_count": 20,
   "id": "4c9cce28",
   "metadata": {},
   "outputs": [
    {
     "data": {
      "text/plain": [
       "2226"
      ]
     },
     "execution_count": 20,
     "metadata": {},
     "output_type": "execute_result"
    }
   ],
   "source": [
    "len(dataset1)"
   ]
  },
  {
   "cell_type": "markdown",
   "id": "d21bc2b2",
   "metadata": {},
   "source": [
    "# Reading hits between 2010-2019"
   ]
  },
  {
   "cell_type": "code",
   "execution_count": 21,
   "id": "6c4bec61",
   "metadata": {},
   "outputs": [],
   "source": [
    "playlist = sp.user_playlist_tracks(\"spotify\", \"6Pi3jayiuzwmA5i6tLtIap\")"
   ]
  },
  {
   "cell_type": "code",
   "execution_count": 22,
   "id": "92b35679",
   "metadata": {},
   "outputs": [
    {
     "name": "stdout",
     "output_type": "stream",
     "text": [
      "CPU times: user 77.6 ms, sys: 10.3 ms, total: 87.9 ms\n",
      "Wall time: 27.4 s\n"
     ]
    }
   ],
   "source": [
    "%%time\n",
    "full_play = get_full_page(playlist)"
   ]
  },
  {
   "cell_type": "code",
   "execution_count": 23,
   "id": "7455c6f6",
   "metadata": {},
   "outputs": [
    {
     "name": "stdout",
     "output_type": "stream",
     "text": [
      "CPU times: user 87.1 ms, sys: 9.46 ms, total: 96.5 ms\n",
      "Wall time: 28.2 s\n"
     ]
    }
   ],
   "source": [
    "%%time \n",
    "albums = get_album_list(playlist)"
   ]
  },
  {
   "cell_type": "code",
   "execution_count": 24,
   "id": "c183d977",
   "metadata": {},
   "outputs": [
    {
     "name": "stdout",
     "output_type": "stream",
     "text": [
      "CPU times: user 2.17 s, sys: 364 ms, total: 2.53 s\n",
      "Wall time: 3min 18s\n"
     ]
    }
   ],
   "source": [
    "%%time \n",
    "dataset2 = get_songs_from_album_list(albums)"
   ]
  },
  {
   "cell_type": "code",
   "execution_count": 25,
   "id": "d0c1aced",
   "metadata": {
    "scrolled": false
   },
   "outputs": [
    {
     "data": {
      "text/plain": [
       "8754"
      ]
     },
     "execution_count": 25,
     "metadata": {},
     "output_type": "execute_result"
    }
   ],
   "source": [
    "len(dataset2)"
   ]
  },
  {
   "cell_type": "markdown",
   "id": "64b1f43b",
   "metadata": {},
   "source": [
    "# Reading longest playlist ever"
   ]
  },
  {
   "cell_type": "code",
   "execution_count": 11,
   "id": "658ea65f",
   "metadata": {},
   "outputs": [],
   "source": [
    "playlist = sp.user_playlist_tracks(\"spotify\", \"6FKDzNYZ8IW1pvYVF4zUN2\")"
   ]
  },
  {
   "cell_type": "code",
   "execution_count": 12,
   "id": "db3f8cfb",
   "metadata": {},
   "outputs": [
    {
     "name": "stdout",
     "output_type": "stream",
     "text": [
      "CPU times: user 957 ms, sys: 149 ms, total: 1.11 s\n",
      "Wall time: 4min 19s\n"
     ]
    }
   ],
   "source": [
    "%%time\n",
    "full_play = get_full_page(playlist)"
   ]
  },
  {
   "cell_type": "code",
   "execution_count": 13,
   "id": "28353b22",
   "metadata": {},
   "outputs": [
    {
     "name": "stdout",
     "output_type": "stream",
     "text": [
      "CPU times: user 2.12 s, sys: 172 ms, total: 2.29 s\n",
      "Wall time: 4min 12s\n"
     ]
    }
   ],
   "source": [
    "%%time \n",
    "albums = get_album_list(playlist)"
   ]
  },
  {
   "cell_type": "code",
   "execution_count": 14,
   "id": "537bdf1f",
   "metadata": {},
   "outputs": [
    {
     "name": "stdout",
     "output_type": "stream",
     "text": [
      "CPU times: user 27.1 s, sys: 3.59 s, total: 30.7 s\n",
      "Wall time: 32min 28s\n"
     ]
    }
   ],
   "source": [
    "%%time \n",
    "dataset3 = get_songs_from_album_list(albums)"
   ]
  },
  {
   "cell_type": "code",
   "execution_count": 15,
   "id": "599f6d94",
   "metadata": {},
   "outputs": [
    {
     "data": {
      "text/plain": [
       "75215"
      ]
     },
     "execution_count": 15,
     "metadata": {},
     "output_type": "execute_result"
    }
   ],
   "source": [
    "len(dataset3)"
   ]
  },
  {
   "cell_type": "markdown",
   "id": "901d77cb",
   "metadata": {},
   "source": [
    "# Creating a datafame"
   ]
  },
  {
   "cell_type": "code",
   "execution_count": 26,
   "id": "0a6660d8",
   "metadata": {
    "scrolled": true
   },
   "outputs": [
    {
     "data": {
      "text/plain": [
       "86195"
      ]
     },
     "execution_count": 26,
     "metadata": {},
     "output_type": "execute_result"
    }
   ],
   "source": [
    "# Concatenating songs from both playlists (and associated albums)\n",
    "dataset = dataset1+dataset2+dataset3\n",
    "len(dataset)"
   ]
  },
  {
   "cell_type": "code",
   "execution_count": 29,
   "id": "76f350dc",
   "metadata": {
    "scrolled": true
   },
   "outputs": [
    {
     "name": "stdout",
     "output_type": "stream",
     "text": [
      "CPU times: user 7min 26s, sys: 28 s, total: 7min 54s\n",
      "Wall time: 7min 55s\n"
     ]
    }
   ],
   "source": [
    "%%time\n",
    "# Creating a dataframe from the songs\n",
    "dataframe = pd.DataFrame(columns=['title','artist','uri'])\n",
    "for i,song in enumerate(dataset):\n",
    "    dataframe.loc[i,'title'] = song['name']\n",
    "    dataframe.loc[i,'artist'] = ', '.join([aux['name'] for aux in song['artists']])\n",
    "    dataframe.loc[i,'uri'] = song['uri']  "
   ]
  },
  {
   "cell_type": "code",
   "execution_count": 30,
   "id": "dc421e35",
   "metadata": {},
   "outputs": [],
   "source": [
    "# removing duplicate songs \n",
    "dataframe = dataframe.drop_duplicates().reset_index(drop=True)"
   ]
  },
  {
   "cell_type": "code",
   "execution_count": 77,
   "id": "5ec8de6b",
   "metadata": {},
   "outputs": [
    {
     "data": {
      "text/html": [
       "<div>\n",
       "<style scoped>\n",
       "    .dataframe tbody tr th:only-of-type {\n",
       "        vertical-align: middle;\n",
       "    }\n",
       "\n",
       "    .dataframe tbody tr th {\n",
       "        vertical-align: top;\n",
       "    }\n",
       "\n",
       "    .dataframe thead th {\n",
       "        text-align: right;\n",
       "    }\n",
       "</style>\n",
       "<table border=\"1\" class=\"dataframe\">\n",
       "  <thead>\n",
       "    <tr style=\"text-align: right;\">\n",
       "      <th></th>\n",
       "      <th>title</th>\n",
       "      <th>artist</th>\n",
       "      <th>uri</th>\n",
       "    </tr>\n",
       "  </thead>\n",
       "  <tbody>\n",
       "    <tr>\n",
       "      <th>0</th>\n",
       "      <td>Hits 2020 - Mashup</td>\n",
       "      <td>Trinix Remix, Trinix</td>\n",
       "      <td>spotify:track:45v4pDxE0VuSZOx81FtgBS</td>\n",
       "    </tr>\n",
       "    <tr>\n",
       "      <th>1</th>\n",
       "      <td>As It Was</td>\n",
       "      <td>Harry Styles</td>\n",
       "      <td>spotify:track:4LRPiXqCikLlN15c3yImP7</td>\n",
       "    </tr>\n",
       "    <tr>\n",
       "      <th>2</th>\n",
       "      <td>About Damn Time</td>\n",
       "      <td>Lizzo</td>\n",
       "      <td>spotify:track:1PckUlxKqWQs3RlWXVBLw3</td>\n",
       "    </tr>\n",
       "    <tr>\n",
       "      <th>3</th>\n",
       "      <td>Alone Again</td>\n",
       "      <td>The Weeknd</td>\n",
       "      <td>spotify:track:2geUtMB7UX968R11pCoXbU</td>\n",
       "    </tr>\n",
       "    <tr>\n",
       "      <th>4</th>\n",
       "      <td>Too Late</td>\n",
       "      <td>The Weeknd</td>\n",
       "      <td>spotify:track:6BSAGCfWNAlx4dVlvxx9UT</td>\n",
       "    </tr>\n",
       "    <tr>\n",
       "      <th>...</th>\n",
       "      <td>...</td>\n",
       "      <td>...</td>\n",
       "      <td>...</td>\n",
       "    </tr>\n",
       "    <tr>\n",
       "      <th>83728</th>\n",
       "      <td>Sunny Afternoon</td>\n",
       "      <td>Red Velvet</td>\n",
       "      <td>spotify:track:3G6iqKcRzEYwSu9zE2qAMW</td>\n",
       "    </tr>\n",
       "    <tr>\n",
       "      <th>83729</th>\n",
       "      <td>Fool</td>\n",
       "      <td>Red Velvet</td>\n",
       "      <td>spotify:track:21C7B7PWYDW00czamOjleO</td>\n",
       "    </tr>\n",
       "    <tr>\n",
       "      <th>83730</th>\n",
       "      <td>Some Love</td>\n",
       "      <td>Red Velvet</td>\n",
       "      <td>spotify:track:5n8SuNZuDaElJQMt0ySzCf</td>\n",
       "    </tr>\n",
       "    <tr>\n",
       "      <th>83731</th>\n",
       "      <td>My Dear</td>\n",
       "      <td>Red Velvet</td>\n",
       "      <td>spotify:track:6s25gIYsBc8oF0VQFK7wzt</td>\n",
       "    </tr>\n",
       "    <tr>\n",
       "      <th>83732</th>\n",
       "      <td>Bass Slut - X-FIR3 Remix</td>\n",
       "      <td>S3RL</td>\n",
       "      <td>spotify:track:6XQhcuKiotvDsk8rBlrySQ</td>\n",
       "    </tr>\n",
       "  </tbody>\n",
       "</table>\n",
       "<p>83733 rows × 3 columns</p>\n",
       "</div>"
      ],
      "text/plain": [
       "                          title                artist  \\\n",
       "0            Hits 2020 - Mashup  Trinix Remix, Trinix   \n",
       "1                     As It Was          Harry Styles   \n",
       "2               About Damn Time                 Lizzo   \n",
       "3                   Alone Again            The Weeknd   \n",
       "4                      Too Late            The Weeknd   \n",
       "...                         ...                   ...   \n",
       "83728           Sunny Afternoon            Red Velvet   \n",
       "83729                      Fool            Red Velvet   \n",
       "83730                 Some Love            Red Velvet   \n",
       "83731                   My Dear            Red Velvet   \n",
       "83732  Bass Slut - X-FIR3 Remix                  S3RL   \n",
       "\n",
       "                                        uri  \n",
       "0      spotify:track:45v4pDxE0VuSZOx81FtgBS  \n",
       "1      spotify:track:4LRPiXqCikLlN15c3yImP7  \n",
       "2      spotify:track:1PckUlxKqWQs3RlWXVBLw3  \n",
       "3      spotify:track:2geUtMB7UX968R11pCoXbU  \n",
       "4      spotify:track:6BSAGCfWNAlx4dVlvxx9UT  \n",
       "...                                     ...  \n",
       "83728  spotify:track:3G6iqKcRzEYwSu9zE2qAMW  \n",
       "83729  spotify:track:21C7B7PWYDW00czamOjleO  \n",
       "83730  spotify:track:5n8SuNZuDaElJQMt0ySzCf  \n",
       "83731  spotify:track:6s25gIYsBc8oF0VQFK7wzt  \n",
       "83732  spotify:track:6XQhcuKiotvDsk8rBlrySQ  \n",
       "\n",
       "[83733 rows x 3 columns]"
      ]
     },
     "execution_count": 77,
     "metadata": {},
     "output_type": "execute_result"
    }
   ],
   "source": [
    "dataframe"
   ]
  },
  {
   "cell_type": "markdown",
   "id": "3936bdcd",
   "metadata": {},
   "source": [
    "# Dividing the dataframe\n",
    "because the dataset is too big"
   ]
  },
  {
   "cell_type": "code",
   "execution_count": 78,
   "id": "ade2274d",
   "metadata": {},
   "outputs": [
    {
     "data": {
      "text/plain": [
       "5"
      ]
     },
     "execution_count": 78,
     "metadata": {},
     "output_type": "execute_result"
    }
   ],
   "source": [
    "divided = []\n",
    "div = 20000\n",
    "\n",
    "for i in range(math.ceil(len(dataframe)/div)):\n",
    "    divided.append(dataframe.loc[i*div:((i+1)*div-1)])\n",
    "len(divided)"
   ]
  },
  {
   "cell_type": "markdown",
   "id": "634c7ca3",
   "metadata": {},
   "source": [
    "#### Dataframe 0"
   ]
  },
  {
   "cell_type": "code",
   "execution_count": 85,
   "id": "4d2a712b",
   "metadata": {},
   "outputs": [
    {
     "name": "stdout",
     "output_type": "stream",
     "text": [
      "CPU times: user 1min 35s, sys: 8.8 s, total: 1min 44s\n",
      "Wall time: 32min 16s\n"
     ]
    }
   ],
   "source": [
    "%%time\n",
    "dataframe0 = divided[0].copy()\n",
    "# Reading spotify audio features for each song and adding it to our dataframe\n",
    "for i,row in dataframe0.iterrows():\n",
    "    features = sp.audio_features(row['uri'])[0]\n",
    "    for feature in features:\n",
    "        dataframe0.loc[i,feature] = features[feature]"
   ]
  },
  {
   "cell_type": "code",
   "execution_count": 89,
   "id": "fbbcb6b4",
   "metadata": {},
   "outputs": [],
   "source": [
    "done_alarm()"
   ]
  },
  {
   "cell_type": "markdown",
   "id": "4878a7ce",
   "metadata": {},
   "source": [
    "#### Dataframe 1"
   ]
  },
  {
   "cell_type": "code",
   "execution_count": 105,
   "id": "a01518d0",
   "metadata": {},
   "outputs": [
    {
     "name": "stdout",
     "output_type": "stream",
     "text": [
      "CPU times: user 1min 35s, sys: 11.5 s, total: 1min 47s\n",
      "Wall time: 36min 36s\n"
     ]
    }
   ],
   "source": [
    "%%time\n",
    "dataframe1 = divided[1].copy()\n",
    "# Reading spotify audio features for each song and adding it to our dataframe\n",
    "for i,row in dataframe1.iterrows():\n",
    "    #sleeping\n",
    "    wait_time = randint(0,100)/1000\n",
    "    sleep(wait_time)\n",
    "    features = sp.audio_features(row['uri'])[0]\n",
    "    for feature in features:\n",
    "        dataframe1.loc[i,feature] = features[feature]"
   ]
  },
  {
   "cell_type": "code",
   "execution_count": 106,
   "id": "3d72b327",
   "metadata": {},
   "outputs": [],
   "source": [
    "done_alarm()"
   ]
  },
  {
   "cell_type": "markdown",
   "id": "7f12883f",
   "metadata": {},
   "source": [
    "#### Dataframe 2"
   ]
  },
  {
   "cell_type": "code",
   "execution_count": 136,
   "id": "81e7b6e6",
   "metadata": {},
   "outputs": [
    {
     "name": "stdout",
     "output_type": "stream",
     "text": [
      "CPU times: user 1min 48s, sys: 8.84 s, total: 1min 57s\n",
      "Wall time: 32min 13s\n"
     ]
    }
   ],
   "source": [
    "%%time\n",
    "dataframe2 = divided[2].copy()\n",
    "# Reading spotify audio features for each song and adding it to our dataframe\n",
    "for i,row in dataframe2.iterrows():\n",
    "    try:\n",
    "        features = sp.audio_features(row['uri'])[0]\n",
    "        \n",
    "        for feature in features:\n",
    "            dataframe2.loc[i,feature] = features[feature]\n",
    "    except:\n",
    "        # if spotify can't give us its audio qualities, drop the song from the database\n",
    "        dataframe2 = dataframe2.drop([i],axis=0)"
   ]
  },
  {
   "cell_type": "code",
   "execution_count": 137,
   "id": "9cf08bd4",
   "metadata": {},
   "outputs": [],
   "source": [
    "done_alarm()"
   ]
  },
  {
   "cell_type": "markdown",
   "id": "558c5a25",
   "metadata": {},
   "source": [
    "#### Dataframe 3"
   ]
  },
  {
   "cell_type": "code",
   "execution_count": 141,
   "id": "6f935757",
   "metadata": {},
   "outputs": [
    {
     "name": "stdout",
     "output_type": "stream",
     "text": [
      "CPU times: user 2min 9s, sys: 9.82 s, total: 2min 19s\n",
      "Wall time: 32min 33s\n"
     ]
    }
   ],
   "source": [
    "%%time\n",
    "dataframe3 = divided[3].copy()\n",
    "# Reading spotify audio features for each song and adding it to our dataframe\n",
    "for i,row in dataframe3.iterrows():\n",
    "    try:\n",
    "        features = sp.audio_features(row['uri'])[0]\n",
    "        \n",
    "        for feature in features:\n",
    "            dataframe3.loc[i,feature] = features[feature]\n",
    "    except:\n",
    "        # if spotify can't give us its audio qualities, drop the song from the database\n",
    "        dataframe3 = dataframe3.drop([i],axis=0)"
   ]
  },
  {
   "cell_type": "code",
   "execution_count": 144,
   "id": "b2316ad0",
   "metadata": {},
   "outputs": [],
   "source": [
    "done_alarm()"
   ]
  },
  {
   "cell_type": "markdown",
   "id": "358ff14c",
   "metadata": {},
   "source": [
    "#### Dataframe 4"
   ]
  },
  {
   "cell_type": "code",
   "execution_count": 145,
   "id": "f9e63e46",
   "metadata": {},
   "outputs": [
    {
     "name": "stdout",
     "output_type": "stream",
     "text": [
      "CPU times: user 20.5 s, sys: 1.7 s, total: 22.2 s\n",
      "Wall time: 6min 5s\n"
     ]
    }
   ],
   "source": [
    "%%time\n",
    "dataframe4 = divided[4].copy()\n",
    "# Reading spotify audio features for each song and adding it to our dataframe\n",
    "for i,row in dataframe4.iterrows():\n",
    "    try:\n",
    "        features = sp.audio_features(row['uri'])[0]\n",
    "        \n",
    "        for feature in features:\n",
    "            dataframe4.loc[i,feature] = features[feature]\n",
    "    except:\n",
    "        # if spotify can't give us its audio qualities, drop the song from the database\n",
    "        dataframe4 = dataframe4.drop([i],axis=0)"
   ]
  },
  {
   "cell_type": "code",
   "execution_count": 170,
   "id": "987c3727",
   "metadata": {},
   "outputs": [
    {
     "data": {
      "text/plain": [
       "pandas.core.frame.DataFrame"
      ]
     },
     "execution_count": 170,
     "metadata": {},
     "output_type": "execute_result"
    }
   ],
   "source": [
    "done_alarm()"
   ]
  },
  {
   "cell_type": "markdown",
   "id": "a324f25d",
   "metadata": {},
   "source": [
    "#### Concatenating everything back"
   ]
  },
  {
   "cell_type": "code",
   "execution_count": 176,
   "id": "450301d4",
   "metadata": {},
   "outputs": [],
   "source": [
    "dataframe = pd.concat([dataframe0,dataframe1,dataframe2,dataframe3,dataframe4],axis=0).reset_index(drop=True)"
   ]
  },
  {
   "cell_type": "code",
   "execution_count": 178,
   "id": "b66d22d4",
   "metadata": {},
   "outputs": [
    {
     "data": {
      "text/html": [
       "<div>\n",
       "<style scoped>\n",
       "    .dataframe tbody tr th:only-of-type {\n",
       "        vertical-align: middle;\n",
       "    }\n",
       "\n",
       "    .dataframe tbody tr th {\n",
       "        vertical-align: top;\n",
       "    }\n",
       "\n",
       "    .dataframe thead th {\n",
       "        text-align: right;\n",
       "    }\n",
       "</style>\n",
       "<table border=\"1\" class=\"dataframe\">\n",
       "  <thead>\n",
       "    <tr style=\"text-align: right;\">\n",
       "      <th></th>\n",
       "      <th>title</th>\n",
       "      <th>artist</th>\n",
       "      <th>uri</th>\n",
       "      <th>danceability</th>\n",
       "      <th>energy</th>\n",
       "      <th>key</th>\n",
       "      <th>loudness</th>\n",
       "      <th>mode</th>\n",
       "      <th>speechiness</th>\n",
       "      <th>acousticness</th>\n",
       "      <th>instrumentalness</th>\n",
       "      <th>liveness</th>\n",
       "      <th>valence</th>\n",
       "      <th>tempo</th>\n",
       "      <th>type</th>\n",
       "      <th>id</th>\n",
       "      <th>track_href</th>\n",
       "      <th>analysis_url</th>\n",
       "      <th>duration_ms</th>\n",
       "      <th>time_signature</th>\n",
       "    </tr>\n",
       "  </thead>\n",
       "  <tbody>\n",
       "    <tr>\n",
       "      <th>0</th>\n",
       "      <td>Hits 2020 - Mashup</td>\n",
       "      <td>Trinix Remix, Trinix</td>\n",
       "      <td>spotify:track:45v4pDxE0VuSZOx81FtgBS</td>\n",
       "      <td>0.510</td>\n",
       "      <td>0.709</td>\n",
       "      <td>1.0</td>\n",
       "      <td>-7.194</td>\n",
       "      <td>0.0</td>\n",
       "      <td>0.1620</td>\n",
       "      <td>0.1280</td>\n",
       "      <td>0.000015</td>\n",
       "      <td>0.0653</td>\n",
       "      <td>0.6620</td>\n",
       "      <td>142.510</td>\n",
       "      <td>audio_features</td>\n",
       "      <td>45v4pDxE0VuSZOx81FtgBS</td>\n",
       "      <td>https://api.spotify.com/v1/tracks/45v4pDxE0VuS...</td>\n",
       "      <td>https://api.spotify.com/v1/audio-analysis/45v4...</td>\n",
       "      <td>133591.0</td>\n",
       "      <td>5.0</td>\n",
       "    </tr>\n",
       "    <tr>\n",
       "      <th>1</th>\n",
       "      <td>As It Was</td>\n",
       "      <td>Harry Styles</td>\n",
       "      <td>spotify:track:4LRPiXqCikLlN15c3yImP7</td>\n",
       "      <td>0.520</td>\n",
       "      <td>0.731</td>\n",
       "      <td>6.0</td>\n",
       "      <td>-5.338</td>\n",
       "      <td>0.0</td>\n",
       "      <td>0.0557</td>\n",
       "      <td>0.3420</td>\n",
       "      <td>0.001010</td>\n",
       "      <td>0.3110</td>\n",
       "      <td>0.6620</td>\n",
       "      <td>173.930</td>\n",
       "      <td>audio_features</td>\n",
       "      <td>4LRPiXqCikLlN15c3yImP7</td>\n",
       "      <td>https://api.spotify.com/v1/tracks/4LRPiXqCikLl...</td>\n",
       "      <td>https://api.spotify.com/v1/audio-analysis/4LRP...</td>\n",
       "      <td>167303.0</td>\n",
       "      <td>4.0</td>\n",
       "    </tr>\n",
       "    <tr>\n",
       "      <th>2</th>\n",
       "      <td>About Damn Time</td>\n",
       "      <td>Lizzo</td>\n",
       "      <td>spotify:track:1PckUlxKqWQs3RlWXVBLw3</td>\n",
       "      <td>0.836</td>\n",
       "      <td>0.743</td>\n",
       "      <td>10.0</td>\n",
       "      <td>-6.305</td>\n",
       "      <td>0.0</td>\n",
       "      <td>0.0656</td>\n",
       "      <td>0.0995</td>\n",
       "      <td>0.000000</td>\n",
       "      <td>0.3350</td>\n",
       "      <td>0.7220</td>\n",
       "      <td>108.966</td>\n",
       "      <td>audio_features</td>\n",
       "      <td>1PckUlxKqWQs3RlWXVBLw3</td>\n",
       "      <td>https://api.spotify.com/v1/tracks/1PckUlxKqWQs...</td>\n",
       "      <td>https://api.spotify.com/v1/audio-analysis/1Pck...</td>\n",
       "      <td>191822.0</td>\n",
       "      <td>4.0</td>\n",
       "    </tr>\n",
       "    <tr>\n",
       "      <th>3</th>\n",
       "      <td>Alone Again</td>\n",
       "      <td>The Weeknd</td>\n",
       "      <td>spotify:track:2geUtMB7UX968R11pCoXbU</td>\n",
       "      <td>0.256</td>\n",
       "      <td>0.653</td>\n",
       "      <td>6.0</td>\n",
       "      <td>-7.972</td>\n",
       "      <td>0.0</td>\n",
       "      <td>0.0544</td>\n",
       "      <td>0.0337</td>\n",
       "      <td>0.113000</td>\n",
       "      <td>0.1680</td>\n",
       "      <td>0.0581</td>\n",
       "      <td>90.673</td>\n",
       "      <td>audio_features</td>\n",
       "      <td>2geUtMB7UX968R11pCoXbU</td>\n",
       "      <td>https://api.spotify.com/v1/tracks/2geUtMB7UX96...</td>\n",
       "      <td>https://api.spotify.com/v1/audio-analysis/2geU...</td>\n",
       "      <td>250057.0</td>\n",
       "      <td>5.0</td>\n",
       "    </tr>\n",
       "    <tr>\n",
       "      <th>4</th>\n",
       "      <td>Too Late</td>\n",
       "      <td>The Weeknd</td>\n",
       "      <td>spotify:track:6BSAGCfWNAlx4dVlvxx9UT</td>\n",
       "      <td>0.640</td>\n",
       "      <td>0.869</td>\n",
       "      <td>4.0</td>\n",
       "      <td>-5.179</td>\n",
       "      <td>0.0</td>\n",
       "      <td>0.1170</td>\n",
       "      <td>0.0518</td>\n",
       "      <td>0.000119</td>\n",
       "      <td>0.6910</td>\n",
       "      <td>0.1850</td>\n",
       "      <td>120.070</td>\n",
       "      <td>audio_features</td>\n",
       "      <td>6BSAGCfWNAlx4dVlvxx9UT</td>\n",
       "      <td>https://api.spotify.com/v1/tracks/6BSAGCfWNAlx...</td>\n",
       "      <td>https://api.spotify.com/v1/audio-analysis/6BSA...</td>\n",
       "      <td>239980.0</td>\n",
       "      <td>4.0</td>\n",
       "    </tr>\n",
       "  </tbody>\n",
       "</table>\n",
       "</div>"
      ],
      "text/plain": [
       "                title                artist  \\\n",
       "0  Hits 2020 - Mashup  Trinix Remix, Trinix   \n",
       "1           As It Was          Harry Styles   \n",
       "2     About Damn Time                 Lizzo   \n",
       "3         Alone Again            The Weeknd   \n",
       "4            Too Late            The Weeknd   \n",
       "\n",
       "                                    uri  danceability  energy   key  loudness  \\\n",
       "0  spotify:track:45v4pDxE0VuSZOx81FtgBS         0.510   0.709   1.0    -7.194   \n",
       "1  spotify:track:4LRPiXqCikLlN15c3yImP7         0.520   0.731   6.0    -5.338   \n",
       "2  spotify:track:1PckUlxKqWQs3RlWXVBLw3         0.836   0.743  10.0    -6.305   \n",
       "3  spotify:track:2geUtMB7UX968R11pCoXbU         0.256   0.653   6.0    -7.972   \n",
       "4  spotify:track:6BSAGCfWNAlx4dVlvxx9UT         0.640   0.869   4.0    -5.179   \n",
       "\n",
       "   mode  speechiness  acousticness  instrumentalness  liveness  valence  \\\n",
       "0   0.0       0.1620        0.1280          0.000015    0.0653   0.6620   \n",
       "1   0.0       0.0557        0.3420          0.001010    0.3110   0.6620   \n",
       "2   0.0       0.0656        0.0995          0.000000    0.3350   0.7220   \n",
       "3   0.0       0.0544        0.0337          0.113000    0.1680   0.0581   \n",
       "4   0.0       0.1170        0.0518          0.000119    0.6910   0.1850   \n",
       "\n",
       "     tempo            type                      id  \\\n",
       "0  142.510  audio_features  45v4pDxE0VuSZOx81FtgBS   \n",
       "1  173.930  audio_features  4LRPiXqCikLlN15c3yImP7   \n",
       "2  108.966  audio_features  1PckUlxKqWQs3RlWXVBLw3   \n",
       "3   90.673  audio_features  2geUtMB7UX968R11pCoXbU   \n",
       "4  120.070  audio_features  6BSAGCfWNAlx4dVlvxx9UT   \n",
       "\n",
       "                                          track_href  \\\n",
       "0  https://api.spotify.com/v1/tracks/45v4pDxE0VuS...   \n",
       "1  https://api.spotify.com/v1/tracks/4LRPiXqCikLl...   \n",
       "2  https://api.spotify.com/v1/tracks/1PckUlxKqWQs...   \n",
       "3  https://api.spotify.com/v1/tracks/2geUtMB7UX96...   \n",
       "4  https://api.spotify.com/v1/tracks/6BSAGCfWNAlx...   \n",
       "\n",
       "                                        analysis_url  duration_ms  \\\n",
       "0  https://api.spotify.com/v1/audio-analysis/45v4...     133591.0   \n",
       "1  https://api.spotify.com/v1/audio-analysis/4LRP...     167303.0   \n",
       "2  https://api.spotify.com/v1/audio-analysis/1Pck...     191822.0   \n",
       "3  https://api.spotify.com/v1/audio-analysis/2geU...     250057.0   \n",
       "4  https://api.spotify.com/v1/audio-analysis/6BSA...     239980.0   \n",
       "\n",
       "   time_signature  \n",
       "0             5.0  \n",
       "1             4.0  \n",
       "2             4.0  \n",
       "3             5.0  \n",
       "4             4.0  "
      ]
     },
     "execution_count": 178,
     "metadata": {},
     "output_type": "execute_result"
    }
   ],
   "source": [
    "dataframe.head()"
   ]
  },
  {
   "cell_type": "code",
   "execution_count": 43,
   "id": "dc7863a8",
   "metadata": {},
   "outputs": [],
   "source": [
    "# Taking out some extra columns I don't want\n",
    "dataframe = dataframe.drop(['type','track_href','analysis_url'],axis=1)"
   ]
  },
  {
   "cell_type": "code",
   "execution_count": 44,
   "id": "bdc67082",
   "metadata": {},
   "outputs": [
    {
     "data": {
      "text/html": [
       "<div>\n",
       "<style scoped>\n",
       "    .dataframe tbody tr th:only-of-type {\n",
       "        vertical-align: middle;\n",
       "    }\n",
       "\n",
       "    .dataframe tbody tr th {\n",
       "        vertical-align: top;\n",
       "    }\n",
       "\n",
       "    .dataframe thead th {\n",
       "        text-align: right;\n",
       "    }\n",
       "</style>\n",
       "<table border=\"1\" class=\"dataframe\">\n",
       "  <thead>\n",
       "    <tr style=\"text-align: right;\">\n",
       "      <th></th>\n",
       "      <th>title</th>\n",
       "      <th>artist</th>\n",
       "      <th>uri</th>\n",
       "      <th>danceability</th>\n",
       "      <th>energy</th>\n",
       "      <th>key</th>\n",
       "      <th>loudness</th>\n",
       "      <th>mode</th>\n",
       "      <th>speechiness</th>\n",
       "      <th>acousticness</th>\n",
       "      <th>instrumentalness</th>\n",
       "      <th>liveness</th>\n",
       "      <th>valence</th>\n",
       "      <th>tempo</th>\n",
       "      <th>id</th>\n",
       "      <th>duration_ms</th>\n",
       "      <th>time_signature</th>\n",
       "    </tr>\n",
       "  </thead>\n",
       "  <tbody>\n",
       "    <tr>\n",
       "      <th>0</th>\n",
       "      <td>Hits 2020 - Mashup</td>\n",
       "      <td>Trinix Remix, Trinix</td>\n",
       "      <td>spotify:track:45v4pDxE0VuSZOx81FtgBS</td>\n",
       "      <td>0.510</td>\n",
       "      <td>0.709</td>\n",
       "      <td>1.0</td>\n",
       "      <td>-7.194</td>\n",
       "      <td>0.0</td>\n",
       "      <td>0.1620</td>\n",
       "      <td>0.1280</td>\n",
       "      <td>0.000015</td>\n",
       "      <td>0.0653</td>\n",
       "      <td>0.6620</td>\n",
       "      <td>142.510</td>\n",
       "      <td>45v4pDxE0VuSZOx81FtgBS</td>\n",
       "      <td>133591.0</td>\n",
       "      <td>5.0</td>\n",
       "    </tr>\n",
       "    <tr>\n",
       "      <th>1</th>\n",
       "      <td>As It Was</td>\n",
       "      <td>Harry Styles</td>\n",
       "      <td>spotify:track:4LRPiXqCikLlN15c3yImP7</td>\n",
       "      <td>0.520</td>\n",
       "      <td>0.731</td>\n",
       "      <td>6.0</td>\n",
       "      <td>-5.338</td>\n",
       "      <td>0.0</td>\n",
       "      <td>0.0557</td>\n",
       "      <td>0.3420</td>\n",
       "      <td>0.001010</td>\n",
       "      <td>0.3110</td>\n",
       "      <td>0.6620</td>\n",
       "      <td>173.930</td>\n",
       "      <td>4LRPiXqCikLlN15c3yImP7</td>\n",
       "      <td>167303.0</td>\n",
       "      <td>4.0</td>\n",
       "    </tr>\n",
       "    <tr>\n",
       "      <th>2</th>\n",
       "      <td>About Damn Time</td>\n",
       "      <td>Lizzo</td>\n",
       "      <td>spotify:track:1PckUlxKqWQs3RlWXVBLw3</td>\n",
       "      <td>0.836</td>\n",
       "      <td>0.743</td>\n",
       "      <td>10.0</td>\n",
       "      <td>-6.305</td>\n",
       "      <td>0.0</td>\n",
       "      <td>0.0656</td>\n",
       "      <td>0.0995</td>\n",
       "      <td>0.000000</td>\n",
       "      <td>0.3350</td>\n",
       "      <td>0.7220</td>\n",
       "      <td>108.966</td>\n",
       "      <td>1PckUlxKqWQs3RlWXVBLw3</td>\n",
       "      <td>191822.0</td>\n",
       "      <td>4.0</td>\n",
       "    </tr>\n",
       "    <tr>\n",
       "      <th>3</th>\n",
       "      <td>Alone Again</td>\n",
       "      <td>The Weeknd</td>\n",
       "      <td>spotify:track:2geUtMB7UX968R11pCoXbU</td>\n",
       "      <td>0.256</td>\n",
       "      <td>0.653</td>\n",
       "      <td>6.0</td>\n",
       "      <td>-7.972</td>\n",
       "      <td>0.0</td>\n",
       "      <td>0.0544</td>\n",
       "      <td>0.0337</td>\n",
       "      <td>0.113000</td>\n",
       "      <td>0.1680</td>\n",
       "      <td>0.0581</td>\n",
       "      <td>90.673</td>\n",
       "      <td>2geUtMB7UX968R11pCoXbU</td>\n",
       "      <td>250057.0</td>\n",
       "      <td>5.0</td>\n",
       "    </tr>\n",
       "    <tr>\n",
       "      <th>4</th>\n",
       "      <td>Too Late</td>\n",
       "      <td>The Weeknd</td>\n",
       "      <td>spotify:track:6BSAGCfWNAlx4dVlvxx9UT</td>\n",
       "      <td>0.640</td>\n",
       "      <td>0.869</td>\n",
       "      <td>4.0</td>\n",
       "      <td>-5.179</td>\n",
       "      <td>0.0</td>\n",
       "      <td>0.1170</td>\n",
       "      <td>0.0518</td>\n",
       "      <td>0.000119</td>\n",
       "      <td>0.6910</td>\n",
       "      <td>0.1850</td>\n",
       "      <td>120.070</td>\n",
       "      <td>6BSAGCfWNAlx4dVlvxx9UT</td>\n",
       "      <td>239980.0</td>\n",
       "      <td>4.0</td>\n",
       "    </tr>\n",
       "    <tr>\n",
       "      <th>...</th>\n",
       "      <td>...</td>\n",
       "      <td>...</td>\n",
       "      <td>...</td>\n",
       "      <td>...</td>\n",
       "      <td>...</td>\n",
       "      <td>...</td>\n",
       "      <td>...</td>\n",
       "      <td>...</td>\n",
       "      <td>...</td>\n",
       "      <td>...</td>\n",
       "      <td>...</td>\n",
       "      <td>...</td>\n",
       "      <td>...</td>\n",
       "      <td>...</td>\n",
       "      <td>...</td>\n",
       "      <td>...</td>\n",
       "      <td>...</td>\n",
       "    </tr>\n",
       "    <tr>\n",
       "      <th>83728</th>\n",
       "      <td>Sunny Afternoon</td>\n",
       "      <td>Red Velvet</td>\n",
       "      <td>spotify:track:3G6iqKcRzEYwSu9zE2qAMW</td>\n",
       "      <td>NaN</td>\n",
       "      <td>NaN</td>\n",
       "      <td>NaN</td>\n",
       "      <td>NaN</td>\n",
       "      <td>NaN</td>\n",
       "      <td>NaN</td>\n",
       "      <td>NaN</td>\n",
       "      <td>NaN</td>\n",
       "      <td>NaN</td>\n",
       "      <td>NaN</td>\n",
       "      <td>NaN</td>\n",
       "      <td>NaN</td>\n",
       "      <td>NaN</td>\n",
       "      <td>NaN</td>\n",
       "    </tr>\n",
       "    <tr>\n",
       "      <th>83729</th>\n",
       "      <td>Fool</td>\n",
       "      <td>Red Velvet</td>\n",
       "      <td>spotify:track:21C7B7PWYDW00czamOjleO</td>\n",
       "      <td>NaN</td>\n",
       "      <td>NaN</td>\n",
       "      <td>NaN</td>\n",
       "      <td>NaN</td>\n",
       "      <td>NaN</td>\n",
       "      <td>NaN</td>\n",
       "      <td>NaN</td>\n",
       "      <td>NaN</td>\n",
       "      <td>NaN</td>\n",
       "      <td>NaN</td>\n",
       "      <td>NaN</td>\n",
       "      <td>NaN</td>\n",
       "      <td>NaN</td>\n",
       "      <td>NaN</td>\n",
       "    </tr>\n",
       "    <tr>\n",
       "      <th>83730</th>\n",
       "      <td>Some Love</td>\n",
       "      <td>Red Velvet</td>\n",
       "      <td>spotify:track:5n8SuNZuDaElJQMt0ySzCf</td>\n",
       "      <td>NaN</td>\n",
       "      <td>NaN</td>\n",
       "      <td>NaN</td>\n",
       "      <td>NaN</td>\n",
       "      <td>NaN</td>\n",
       "      <td>NaN</td>\n",
       "      <td>NaN</td>\n",
       "      <td>NaN</td>\n",
       "      <td>NaN</td>\n",
       "      <td>NaN</td>\n",
       "      <td>NaN</td>\n",
       "      <td>NaN</td>\n",
       "      <td>NaN</td>\n",
       "      <td>NaN</td>\n",
       "    </tr>\n",
       "    <tr>\n",
       "      <th>83731</th>\n",
       "      <td>My Dear</td>\n",
       "      <td>Red Velvet</td>\n",
       "      <td>spotify:track:6s25gIYsBc8oF0VQFK7wzt</td>\n",
       "      <td>NaN</td>\n",
       "      <td>NaN</td>\n",
       "      <td>NaN</td>\n",
       "      <td>NaN</td>\n",
       "      <td>NaN</td>\n",
       "      <td>NaN</td>\n",
       "      <td>NaN</td>\n",
       "      <td>NaN</td>\n",
       "      <td>NaN</td>\n",
       "      <td>NaN</td>\n",
       "      <td>NaN</td>\n",
       "      <td>NaN</td>\n",
       "      <td>NaN</td>\n",
       "      <td>NaN</td>\n",
       "    </tr>\n",
       "    <tr>\n",
       "      <th>83732</th>\n",
       "      <td>Bass Slut - X-FIR3 Remix</td>\n",
       "      <td>S3RL</td>\n",
       "      <td>spotify:track:6XQhcuKiotvDsk8rBlrySQ</td>\n",
       "      <td>NaN</td>\n",
       "      <td>NaN</td>\n",
       "      <td>NaN</td>\n",
       "      <td>NaN</td>\n",
       "      <td>NaN</td>\n",
       "      <td>NaN</td>\n",
       "      <td>NaN</td>\n",
       "      <td>NaN</td>\n",
       "      <td>NaN</td>\n",
       "      <td>NaN</td>\n",
       "      <td>NaN</td>\n",
       "      <td>NaN</td>\n",
       "      <td>NaN</td>\n",
       "      <td>NaN</td>\n",
       "    </tr>\n",
       "  </tbody>\n",
       "</table>\n",
       "<p>83733 rows × 17 columns</p>\n",
       "</div>"
      ],
      "text/plain": [
       "                          title                artist  \\\n",
       "0            Hits 2020 - Mashup  Trinix Remix, Trinix   \n",
       "1                     As It Was          Harry Styles   \n",
       "2               About Damn Time                 Lizzo   \n",
       "3                   Alone Again            The Weeknd   \n",
       "4                      Too Late            The Weeknd   \n",
       "...                         ...                   ...   \n",
       "83728           Sunny Afternoon            Red Velvet   \n",
       "83729                      Fool            Red Velvet   \n",
       "83730                 Some Love            Red Velvet   \n",
       "83731                   My Dear            Red Velvet   \n",
       "83732  Bass Slut - X-FIR3 Remix                  S3RL   \n",
       "\n",
       "                                        uri  danceability  energy   key  \\\n",
       "0      spotify:track:45v4pDxE0VuSZOx81FtgBS         0.510   0.709   1.0   \n",
       "1      spotify:track:4LRPiXqCikLlN15c3yImP7         0.520   0.731   6.0   \n",
       "2      spotify:track:1PckUlxKqWQs3RlWXVBLw3         0.836   0.743  10.0   \n",
       "3      spotify:track:2geUtMB7UX968R11pCoXbU         0.256   0.653   6.0   \n",
       "4      spotify:track:6BSAGCfWNAlx4dVlvxx9UT         0.640   0.869   4.0   \n",
       "...                                     ...           ...     ...   ...   \n",
       "83728  spotify:track:3G6iqKcRzEYwSu9zE2qAMW           NaN     NaN   NaN   \n",
       "83729  spotify:track:21C7B7PWYDW00czamOjleO           NaN     NaN   NaN   \n",
       "83730  spotify:track:5n8SuNZuDaElJQMt0ySzCf           NaN     NaN   NaN   \n",
       "83731  spotify:track:6s25gIYsBc8oF0VQFK7wzt           NaN     NaN   NaN   \n",
       "83732  spotify:track:6XQhcuKiotvDsk8rBlrySQ           NaN     NaN   NaN   \n",
       "\n",
       "       loudness  mode  speechiness  acousticness  instrumentalness  liveness  \\\n",
       "0        -7.194   0.0       0.1620        0.1280          0.000015    0.0653   \n",
       "1        -5.338   0.0       0.0557        0.3420          0.001010    0.3110   \n",
       "2        -6.305   0.0       0.0656        0.0995          0.000000    0.3350   \n",
       "3        -7.972   0.0       0.0544        0.0337          0.113000    0.1680   \n",
       "4        -5.179   0.0       0.1170        0.0518          0.000119    0.6910   \n",
       "...         ...   ...          ...           ...               ...       ...   \n",
       "83728       NaN   NaN          NaN           NaN               NaN       NaN   \n",
       "83729       NaN   NaN          NaN           NaN               NaN       NaN   \n",
       "83730       NaN   NaN          NaN           NaN               NaN       NaN   \n",
       "83731       NaN   NaN          NaN           NaN               NaN       NaN   \n",
       "83732       NaN   NaN          NaN           NaN               NaN       NaN   \n",
       "\n",
       "       valence    tempo                      id  duration_ms  time_signature  \n",
       "0       0.6620  142.510  45v4pDxE0VuSZOx81FtgBS     133591.0             5.0  \n",
       "1       0.6620  173.930  4LRPiXqCikLlN15c3yImP7     167303.0             4.0  \n",
       "2       0.7220  108.966  1PckUlxKqWQs3RlWXVBLw3     191822.0             4.0  \n",
       "3       0.0581   90.673  2geUtMB7UX968R11pCoXbU     250057.0             5.0  \n",
       "4       0.1850  120.070  6BSAGCfWNAlx4dVlvxx9UT     239980.0             4.0  \n",
       "...        ...      ...                     ...          ...             ...  \n",
       "83728      NaN      NaN                     NaN          NaN             NaN  \n",
       "83729      NaN      NaN                     NaN          NaN             NaN  \n",
       "83730      NaN      NaN                     NaN          NaN             NaN  \n",
       "83731      NaN      NaN                     NaN          NaN             NaN  \n",
       "83732      NaN      NaN                     NaN          NaN             NaN  \n",
       "\n",
       "[83733 rows x 17 columns]"
      ]
     },
     "execution_count": 44,
     "metadata": {},
     "output_type": "execute_result"
    }
   ],
   "source": [
    "dataframe"
   ]
  },
  {
   "cell_type": "code",
   "execution_count": 179,
   "id": "5d49ce79",
   "metadata": {},
   "outputs": [],
   "source": [
    "# I'm saving this because I'd like to skip the waiting time for next time\n",
    "dataframe.to_csv('songs90k.csv',index=False)"
   ]
  },
  {
   "cell_type": "code",
   "execution_count": 40,
   "id": "860c4c2d",
   "metadata": {},
   "outputs": [
    {
     "data": {
      "text/plain": [
       "86195"
      ]
     },
     "execution_count": 40,
     "metadata": {},
     "output_type": "execute_result"
    }
   ],
   "source": [
    "len(dataset)"
   ]
  },
  {
   "cell_type": "markdown",
   "id": "ceb37bc1",
   "metadata": {},
   "source": [
    "#### old code"
   ]
  },
  {
   "cell_type": "code",
   "execution_count": null,
   "id": "0f5ca0a0",
   "metadata": {},
   "outputs": [],
   "source": [
    "\"\"\"%%time\n",
    "# Reading spotify audio features for each song and adding it to our dataframe\n",
    "for i,row in dataframe.iterrows():\n",
    "    #sleeping\n",
    "    wait_time = randint(0,500)/1000\n",
    "    sleep(wait_time)\n",
    "    \n",
    "    features = sp.audio_features(row['uri'])[0]\n",
    "    for feature in features:\n",
    "        dataframe.loc[i,feature] = features[feature]\"\"\""
   ]
  }
 ],
 "metadata": {
  "kernelspec": {
   "display_name": "Python 3 (ipykernel)",
   "language": "python",
   "name": "python3"
  },
  "language_info": {
   "codemirror_mode": {
    "name": "ipython",
    "version": 3
   },
   "file_extension": ".py",
   "mimetype": "text/x-python",
   "name": "python",
   "nbconvert_exporter": "python",
   "pygments_lexer": "ipython3",
   "version": "3.10.6"
  }
 },
 "nbformat": 4,
 "nbformat_minor": 5
}
