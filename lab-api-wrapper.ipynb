{
 "cells": [
  {
   "cell_type": "code",
   "execution_count": 1,
   "id": "6b51690a",
   "metadata": {},
   "outputs": [],
   "source": [
    "import spotipy\n",
    "from spotipy.oauth2 import SpotifyClientCredentials\n",
    "from random import randint\n",
    "from time import sleep\n",
    "import pandas as pd"
   ]
  },
  {
   "cell_type": "code",
   "execution_count": 2,
   "id": "535794fa",
   "metadata": {},
   "outputs": [],
   "source": [
    "# Reading password\n",
    "secrets_file = open(\"secrets.txt\",\"r\")\n",
    "string = secrets_file.read()\n",
    "secrets_dict={}\n",
    "for line in string.split('\\n'):\n",
    "    if len(line) > 0:\n",
    "        secrets_dict[line.split(':')[0]]=line.split(':')[1]"
   ]
  },
  {
   "cell_type": "code",
   "execution_count": 3,
   "id": "e810bc3c",
   "metadata": {},
   "outputs": [],
   "source": [
    "#Initialize SpotiPy with user credentials\n",
    "sp = spotipy.Spotify(auth_manager=SpotifyClientCredentials(client_id=secrets_dict['cid'],\n",
    "client_secret=secrets_dict['csecret']))"
   ]
  },
  {
   "cell_type": "markdown",
   "id": "d3aad379",
   "metadata": {},
   "source": [
    "# Handy functions"
   ]
  },
  {
   "cell_type": "code",
   "execution_count": 4,
   "id": "83f3f896",
   "metadata": {},
   "outputs": [],
   "source": [
    "def get_full_page(playlist):\n",
    "    # it iterates through each page until the end for huge playlists or albums\n",
    "    # and returns the whole list of songs \n",
    "    results = playlist.copy()\n",
    "    tracks = results['items']\n",
    "    while results['next']!=None:\n",
    "        #sleeping\n",
    "        wait_time = randint(0,500)/1000\n",
    "        sleep(wait_time)\n",
    "        \n",
    "        results = sp.next(results)\n",
    "        tracks = tracks + results['items']\n",
    "        sleep(randint(1,3))\n",
    "    return tracks"
   ]
  },
  {
   "cell_type": "code",
   "execution_count": 13,
   "id": "beafd139",
   "metadata": {},
   "outputs": [],
   "source": [
    "def get_album_list(playlist):\n",
    "    # Gets all the albums from a list of songs by\n",
    "    # returning a list of tuples (album_name,album_id)\n",
    "    album_ids = []\n",
    "    full_playlist = get_full_page(playlist)\n",
    "    \n",
    "    for song in full_playlist:\n",
    "        album_id = (song['track']['album']['name'],song['track']['album']['id'])\n",
    "        \n",
    "        if album_id not in album_ids:\n",
    "            album_ids.append(album_id)\n",
    "            \n",
    "    return album_ids"
   ]
  },
  {
   "cell_type": "code",
   "execution_count": 14,
   "id": "141e9fd4",
   "metadata": {},
   "outputs": [],
   "source": [
    "def get_songs_from_album_list(album_list):\n",
    "    # Iterates through each album and adds all its song to a new dataframe that a new\n",
    "    # list that is returned\n",
    "    songs = []\n",
    "    for album,album_id in album_list:\n",
    "        #sleeping\n",
    "        wait_time = randint(0,250)/1000\n",
    "        sleep(wait_time)\n",
    "        \n",
    "        #reading album tracks\n",
    "        full_album = get_full_page(sp.album_tracks(album_id))\n",
    "        \n",
    "        #appending records to songs\n",
    "        songs = songs + full_album\n",
    "        \n",
    "    return songs"
   ]
  },
  {
   "cell_type": "markdown",
   "id": "e9994e40",
   "metadata": {},
   "source": [
    "## Reading hits between 2020-2022"
   ]
  },
  {
   "cell_type": "code",
   "execution_count": 15,
   "id": "1af98d03",
   "metadata": {},
   "outputs": [],
   "source": [
    "playlist = sp.user_playlist_tracks(\"spotify\", \"1638KZlvcvyyEJ15S8erge\")"
   ]
  },
  {
   "cell_type": "code",
   "execution_count": 16,
   "id": "529951d6",
   "metadata": {},
   "outputs": [
    {
     "name": "stdout",
     "output_type": "stream",
     "text": [
      "CPU times: user 37.6 ms, sys: 8.8 ms, total: 46.4 ms\n",
      "Wall time: 11.3 s\n"
     ]
    }
   ],
   "source": [
    "%%time\n",
    "full_play = get_full_page(playlist)"
   ]
  },
  {
   "cell_type": "code",
   "execution_count": 17,
   "id": "b46c44a0",
   "metadata": {},
   "outputs": [
    {
     "name": "stdout",
     "output_type": "stream",
     "text": [
      "CPU times: user 43.3 ms, sys: 9.12 ms, total: 52.4 ms\n",
      "Wall time: 11.7 s\n"
     ]
    }
   ],
   "source": [
    "%%time \n",
    "albums = get_album_list(playlist)"
   ]
  },
  {
   "cell_type": "code",
   "execution_count": 19,
   "id": "6916e77f",
   "metadata": {},
   "outputs": [
    {
     "name": "stdout",
     "output_type": "stream",
     "text": [
      "CPU times: user 1.04 s, sys: 188 ms, total: 1.23 s\n",
      "Wall time: 1min 45s\n"
     ]
    }
   ],
   "source": [
    "%%time \n",
    "dataset1 = get_songs_from_album_list(albums)"
   ]
  },
  {
   "cell_type": "code",
   "execution_count": null,
   "id": "4c9cce28",
   "metadata": {},
   "outputs": [],
   "source": [
    "len(dataset1)"
   ]
  },
  {
   "cell_type": "markdown",
   "id": "d21bc2b2",
   "metadata": {},
   "source": [
    "# Reading hits between 2010-2019"
   ]
  },
  {
   "cell_type": "code",
   "execution_count": 21,
   "id": "6c4bec61",
   "metadata": {},
   "outputs": [],
   "source": [
    "playlist = sp.user_playlist_tracks(\"spotify\", \"6Pi3jayiuzwmA5i6tLtIap\")"
   ]
  },
  {
   "cell_type": "code",
   "execution_count": 22,
   "id": "92b35679",
   "metadata": {},
   "outputs": [
    {
     "name": "stdout",
     "output_type": "stream",
     "text": [
      "CPU times: user 83.3 ms, sys: 16.1 ms, total: 99.4 ms\n",
      "Wall time: 29 s\n"
     ]
    }
   ],
   "source": [
    "%%time\n",
    "full_play = get_full_page(playlist)"
   ]
  },
  {
   "cell_type": "code",
   "execution_count": 23,
   "id": "7455c6f6",
   "metadata": {},
   "outputs": [
    {
     "name": "stdout",
     "output_type": "stream",
     "text": [
      "CPU times: user 98.4 ms, sys: 14.5 ms, total: 113 ms\n",
      "Wall time: 30.2 s\n"
     ]
    }
   ],
   "source": [
    "%%time \n",
    "albums = get_album_list(playlist)"
   ]
  },
  {
   "cell_type": "code",
   "execution_count": 24,
   "id": "c183d977",
   "metadata": {},
   "outputs": [
    {
     "name": "stdout",
     "output_type": "stream",
     "text": [
      "CPU times: user 2.16 s, sys: 382 ms, total: 2.54 s\n",
      "Wall time: 3min 19s\n"
     ]
    }
   ],
   "source": [
    "%%time \n",
    "dataset2 = get_songs_from_album_list(albums)"
   ]
  },
  {
   "cell_type": "code",
   "execution_count": 26,
   "id": "d0c1aced",
   "metadata": {
    "scrolled": false
   },
   "outputs": [
    {
     "data": {
      "text/plain": [
       "8754"
      ]
     },
     "execution_count": 26,
     "metadata": {},
     "output_type": "execute_result"
    }
   ],
   "source": [
    "len(dataset2)"
   ]
  },
  {
   "cell_type": "code",
   "execution_count": 46,
   "id": "6dbcd1c3",
   "metadata": {},
   "outputs": [],
   "source": [
    "a = {'manuel' : 'madrid', 'fernando' : 'huelva'}"
   ]
  },
  {
   "cell_type": "markdown",
   "id": "901d77cb",
   "metadata": {},
   "source": [
    "# Creating a datafame"
   ]
  },
  {
   "cell_type": "code",
   "execution_count": 32,
   "id": "0a6660d8",
   "metadata": {
    "scrolled": true
   },
   "outputs": [
    {
     "data": {
      "text/plain": [
       "10980"
      ]
     },
     "execution_count": 32,
     "metadata": {},
     "output_type": "execute_result"
    }
   ],
   "source": [
    "# Concatenating songs from both playlists (and associated albums)\n",
    "dataset = dataset1+dataset2\n",
    "len(dataset)"
   ]
  },
  {
   "cell_type": "code",
   "execution_count": 33,
   "id": "76f350dc",
   "metadata": {
    "scrolled": true
   },
   "outputs": [
    {
     "name": "stdout",
     "output_type": "stream",
     "text": [
      "CPU times: user 6.56 s, sys: 195 ms, total: 6.76 s\n",
      "Wall time: 6.86 s\n"
     ]
    }
   ],
   "source": [
    "%%time\n",
    "# Creating a dataframe from the songs\n",
    "dataframe = pd.DataFrame(columns=['title','artist','uri'])\n",
    "for i,song in enumerate(dataset):\n",
    "    dataframe.loc[i,'title'] = song['name']\n",
    "    dataframe.loc[i,'artist'] = ', '.join([aux['name'] for aux in song['artists']])\n",
    "    dataframe.loc[i,'uri'] = song['uri']  "
   ]
  },
  {
   "cell_type": "code",
   "execution_count": 39,
   "id": "dc421e35",
   "metadata": {},
   "outputs": [],
   "source": [
    "# removing duplicate songs \n",
    "dataframe = dataframe.drop_duplicates().reset_index(drop=True)"
   ]
  },
  {
   "cell_type": "code",
   "execution_count": 40,
   "id": "5ec8de6b",
   "metadata": {},
   "outputs": [
    {
     "data": {
      "text/html": [
       "<div>\n",
       "<style scoped>\n",
       "    .dataframe tbody tr th:only-of-type {\n",
       "        vertical-align: middle;\n",
       "    }\n",
       "\n",
       "    .dataframe tbody tr th {\n",
       "        vertical-align: top;\n",
       "    }\n",
       "\n",
       "    .dataframe thead th {\n",
       "        text-align: right;\n",
       "    }\n",
       "</style>\n",
       "<table border=\"1\" class=\"dataframe\">\n",
       "  <thead>\n",
       "    <tr style=\"text-align: right;\">\n",
       "      <th></th>\n",
       "      <th>title</th>\n",
       "      <th>artist</th>\n",
       "      <th>uri</th>\n",
       "    </tr>\n",
       "  </thead>\n",
       "  <tbody>\n",
       "    <tr>\n",
       "      <th>0</th>\n",
       "      <td>Hits 2020 - Mashup</td>\n",
       "      <td>Trinix Remix, Trinix</td>\n",
       "      <td>spotify:track:45v4pDxE0VuSZOx81FtgBS</td>\n",
       "    </tr>\n",
       "    <tr>\n",
       "      <th>1</th>\n",
       "      <td>As It Was</td>\n",
       "      <td>Harry Styles</td>\n",
       "      <td>spotify:track:4LRPiXqCikLlN15c3yImP7</td>\n",
       "    </tr>\n",
       "    <tr>\n",
       "      <th>2</th>\n",
       "      <td>About Damn Time</td>\n",
       "      <td>Lizzo</td>\n",
       "      <td>spotify:track:1PckUlxKqWQs3RlWXVBLw3</td>\n",
       "    </tr>\n",
       "    <tr>\n",
       "      <th>3</th>\n",
       "      <td>Alone Again</td>\n",
       "      <td>The Weeknd</td>\n",
       "      <td>spotify:track:2geUtMB7UX968R11pCoXbU</td>\n",
       "    </tr>\n",
       "    <tr>\n",
       "      <th>4</th>\n",
       "      <td>Too Late</td>\n",
       "      <td>The Weeknd</td>\n",
       "      <td>spotify:track:6BSAGCfWNAlx4dVlvxx9UT</td>\n",
       "    </tr>\n",
       "    <tr>\n",
       "      <th>...</th>\n",
       "      <td>...</td>\n",
       "      <td>...</td>\n",
       "      <td>...</td>\n",
       "    </tr>\n",
       "    <tr>\n",
       "      <th>10790</th>\n",
       "      <td>Alive</td>\n",
       "      <td>Jessie J</td>\n",
       "      <td>spotify:track:2VthUPIyeeE7Xh31Grb609</td>\n",
       "    </tr>\n",
       "    <tr>\n",
       "      <th>10791</th>\n",
       "      <td>Unite</td>\n",
       "      <td>Jessie J</td>\n",
       "      <td>spotify:track:7dx1maQh7mN7PHRTnZNFI9</td>\n",
       "    </tr>\n",
       "    <tr>\n",
       "      <th>10792</th>\n",
       "      <td>Hero</td>\n",
       "      <td>Jessie J</td>\n",
       "      <td>spotify:track:1bZgbYc9FKJoFQ4mOQl3Pb</td>\n",
       "    </tr>\n",
       "    <tr>\n",
       "      <th>10793</th>\n",
       "      <td>Magnetic</td>\n",
       "      <td>Jessie J</td>\n",
       "      <td>spotify:track:0w8VqEISiNmug0Wm4vLyIw</td>\n",
       "    </tr>\n",
       "    <tr>\n",
       "      <th>10794</th>\n",
       "      <td>It's My Party - All About She UKG Remix</td>\n",
       "      <td>Jessie J</td>\n",
       "      <td>spotify:track:3k7u4avgoohy92joOFz3Bz</td>\n",
       "    </tr>\n",
       "  </tbody>\n",
       "</table>\n",
       "<p>10795 rows × 3 columns</p>\n",
       "</div>"
      ],
      "text/plain": [
       "                                         title                artist  \\\n",
       "0                           Hits 2020 - Mashup  Trinix Remix, Trinix   \n",
       "1                                    As It Was          Harry Styles   \n",
       "2                              About Damn Time                 Lizzo   \n",
       "3                                  Alone Again            The Weeknd   \n",
       "4                                     Too Late            The Weeknd   \n",
       "...                                        ...                   ...   \n",
       "10790                                    Alive              Jessie J   \n",
       "10791                                    Unite              Jessie J   \n",
       "10792                                     Hero              Jessie J   \n",
       "10793                                 Magnetic              Jessie J   \n",
       "10794  It's My Party - All About She UKG Remix              Jessie J   \n",
       "\n",
       "                                        uri  \n",
       "0      spotify:track:45v4pDxE0VuSZOx81FtgBS  \n",
       "1      spotify:track:4LRPiXqCikLlN15c3yImP7  \n",
       "2      spotify:track:1PckUlxKqWQs3RlWXVBLw3  \n",
       "3      spotify:track:2geUtMB7UX968R11pCoXbU  \n",
       "4      spotify:track:6BSAGCfWNAlx4dVlvxx9UT  \n",
       "...                                     ...  \n",
       "10790  spotify:track:2VthUPIyeeE7Xh31Grb609  \n",
       "10791  spotify:track:7dx1maQh7mN7PHRTnZNFI9  \n",
       "10792  spotify:track:1bZgbYc9FKJoFQ4mOQl3Pb  \n",
       "10793  spotify:track:0w8VqEISiNmug0Wm4vLyIw  \n",
       "10794  spotify:track:3k7u4avgoohy92joOFz3Bz  \n",
       "\n",
       "[10795 rows x 3 columns]"
      ]
     },
     "execution_count": 40,
     "metadata": {},
     "output_type": "execute_result"
    }
   ],
   "source": [
    "dataframe"
   ]
  },
  {
   "cell_type": "code",
   "execution_count": 41,
   "id": "9643707d",
   "metadata": {},
   "outputs": [
    {
     "name": "stdout",
     "output_type": "stream",
     "text": [
      "CPU times: user 41.5 s, sys: 4.35 s, total: 45.9 s\n",
      "Wall time: 20min 59s\n"
     ]
    }
   ],
   "source": [
    "%%time\n",
    "# Reading spotify audio features for each song and adding it to our dataframe\n",
    "for i,row in dataframe.iterrows():\n",
    "    #sleeping\n",
    "    wait_time = randint(0,50)/1000\n",
    "    sleep(wait_time)\n",
    "    \n",
    "    features = sp.audio_features(row['uri'])[0]\n",
    "    for feature in features:\n",
    "        dataframe.loc[i,feature] = features[feature]"
   ]
  },
  {
   "cell_type": "code",
   "execution_count": 42,
   "id": "dc7863a8",
   "metadata": {},
   "outputs": [],
   "source": [
    "# Taking out some extra columns I don't want\n",
    "dataframe = dataframe.drop(['type','track_href','analysis_url'],axis=1)"
   ]
  },
  {
   "cell_type": "code",
   "execution_count": 43,
   "id": "bdc67082",
   "metadata": {},
   "outputs": [
    {
     "data": {
      "text/html": [
       "<div>\n",
       "<style scoped>\n",
       "    .dataframe tbody tr th:only-of-type {\n",
       "        vertical-align: middle;\n",
       "    }\n",
       "\n",
       "    .dataframe tbody tr th {\n",
       "        vertical-align: top;\n",
       "    }\n",
       "\n",
       "    .dataframe thead th {\n",
       "        text-align: right;\n",
       "    }\n",
       "</style>\n",
       "<table border=\"1\" class=\"dataframe\">\n",
       "  <thead>\n",
       "    <tr style=\"text-align: right;\">\n",
       "      <th></th>\n",
       "      <th>title</th>\n",
       "      <th>artist</th>\n",
       "      <th>uri</th>\n",
       "      <th>danceability</th>\n",
       "      <th>energy</th>\n",
       "      <th>key</th>\n",
       "      <th>loudness</th>\n",
       "      <th>mode</th>\n",
       "      <th>speechiness</th>\n",
       "      <th>acousticness</th>\n",
       "      <th>instrumentalness</th>\n",
       "      <th>liveness</th>\n",
       "      <th>valence</th>\n",
       "      <th>tempo</th>\n",
       "      <th>id</th>\n",
       "      <th>duration_ms</th>\n",
       "      <th>time_signature</th>\n",
       "    </tr>\n",
       "  </thead>\n",
       "  <tbody>\n",
       "    <tr>\n",
       "      <th>0</th>\n",
       "      <td>Hits 2020 - Mashup</td>\n",
       "      <td>Trinix Remix, Trinix</td>\n",
       "      <td>spotify:track:45v4pDxE0VuSZOx81FtgBS</td>\n",
       "      <td>0.510</td>\n",
       "      <td>0.709</td>\n",
       "      <td>1.0</td>\n",
       "      <td>-7.194</td>\n",
       "      <td>0.0</td>\n",
       "      <td>0.1620</td>\n",
       "      <td>0.128000</td>\n",
       "      <td>0.000015</td>\n",
       "      <td>0.0653</td>\n",
       "      <td>0.6620</td>\n",
       "      <td>142.510</td>\n",
       "      <td>45v4pDxE0VuSZOx81FtgBS</td>\n",
       "      <td>133591.0</td>\n",
       "      <td>5.0</td>\n",
       "    </tr>\n",
       "    <tr>\n",
       "      <th>1</th>\n",
       "      <td>As It Was</td>\n",
       "      <td>Harry Styles</td>\n",
       "      <td>spotify:track:4LRPiXqCikLlN15c3yImP7</td>\n",
       "      <td>0.520</td>\n",
       "      <td>0.731</td>\n",
       "      <td>6.0</td>\n",
       "      <td>-5.338</td>\n",
       "      <td>0.0</td>\n",
       "      <td>0.0557</td>\n",
       "      <td>0.342000</td>\n",
       "      <td>0.001010</td>\n",
       "      <td>0.3110</td>\n",
       "      <td>0.6620</td>\n",
       "      <td>173.930</td>\n",
       "      <td>4LRPiXqCikLlN15c3yImP7</td>\n",
       "      <td>167303.0</td>\n",
       "      <td>4.0</td>\n",
       "    </tr>\n",
       "    <tr>\n",
       "      <th>2</th>\n",
       "      <td>About Damn Time</td>\n",
       "      <td>Lizzo</td>\n",
       "      <td>spotify:track:1PckUlxKqWQs3RlWXVBLw3</td>\n",
       "      <td>0.836</td>\n",
       "      <td>0.743</td>\n",
       "      <td>10.0</td>\n",
       "      <td>-6.305</td>\n",
       "      <td>0.0</td>\n",
       "      <td>0.0656</td>\n",
       "      <td>0.099500</td>\n",
       "      <td>0.000000</td>\n",
       "      <td>0.3350</td>\n",
       "      <td>0.7220</td>\n",
       "      <td>108.966</td>\n",
       "      <td>1PckUlxKqWQs3RlWXVBLw3</td>\n",
       "      <td>191822.0</td>\n",
       "      <td>4.0</td>\n",
       "    </tr>\n",
       "    <tr>\n",
       "      <th>3</th>\n",
       "      <td>Alone Again</td>\n",
       "      <td>The Weeknd</td>\n",
       "      <td>spotify:track:2geUtMB7UX968R11pCoXbU</td>\n",
       "      <td>0.256</td>\n",
       "      <td>0.653</td>\n",
       "      <td>6.0</td>\n",
       "      <td>-7.972</td>\n",
       "      <td>0.0</td>\n",
       "      <td>0.0544</td>\n",
       "      <td>0.033700</td>\n",
       "      <td>0.113000</td>\n",
       "      <td>0.1680</td>\n",
       "      <td>0.0581</td>\n",
       "      <td>90.673</td>\n",
       "      <td>2geUtMB7UX968R11pCoXbU</td>\n",
       "      <td>250057.0</td>\n",
       "      <td>5.0</td>\n",
       "    </tr>\n",
       "    <tr>\n",
       "      <th>4</th>\n",
       "      <td>Too Late</td>\n",
       "      <td>The Weeknd</td>\n",
       "      <td>spotify:track:6BSAGCfWNAlx4dVlvxx9UT</td>\n",
       "      <td>0.640</td>\n",
       "      <td>0.869</td>\n",
       "      <td>4.0</td>\n",
       "      <td>-5.179</td>\n",
       "      <td>0.0</td>\n",
       "      <td>0.1170</td>\n",
       "      <td>0.051800</td>\n",
       "      <td>0.000119</td>\n",
       "      <td>0.6910</td>\n",
       "      <td>0.1850</td>\n",
       "      <td>120.070</td>\n",
       "      <td>6BSAGCfWNAlx4dVlvxx9UT</td>\n",
       "      <td>239980.0</td>\n",
       "      <td>4.0</td>\n",
       "    </tr>\n",
       "    <tr>\n",
       "      <th>...</th>\n",
       "      <td>...</td>\n",
       "      <td>...</td>\n",
       "      <td>...</td>\n",
       "      <td>...</td>\n",
       "      <td>...</td>\n",
       "      <td>...</td>\n",
       "      <td>...</td>\n",
       "      <td>...</td>\n",
       "      <td>...</td>\n",
       "      <td>...</td>\n",
       "      <td>...</td>\n",
       "      <td>...</td>\n",
       "      <td>...</td>\n",
       "      <td>...</td>\n",
       "      <td>...</td>\n",
       "      <td>...</td>\n",
       "      <td>...</td>\n",
       "    </tr>\n",
       "    <tr>\n",
       "      <th>10790</th>\n",
       "      <td>Alive</td>\n",
       "      <td>Jessie J</td>\n",
       "      <td>spotify:track:2VthUPIyeeE7Xh31Grb609</td>\n",
       "      <td>0.604</td>\n",
       "      <td>0.604</td>\n",
       "      <td>2.0</td>\n",
       "      <td>-10.258</td>\n",
       "      <td>1.0</td>\n",
       "      <td>0.1460</td>\n",
       "      <td>0.001200</td>\n",
       "      <td>0.000060</td>\n",
       "      <td>0.1440</td>\n",
       "      <td>0.7220</td>\n",
       "      <td>157.961</td>\n",
       "      <td>2VthUPIyeeE7Xh31Grb609</td>\n",
       "      <td>204587.0</td>\n",
       "      <td>4.0</td>\n",
       "    </tr>\n",
       "    <tr>\n",
       "      <th>10791</th>\n",
       "      <td>Unite</td>\n",
       "      <td>Jessie J</td>\n",
       "      <td>spotify:track:7dx1maQh7mN7PHRTnZNFI9</td>\n",
       "      <td>0.549</td>\n",
       "      <td>0.566</td>\n",
       "      <td>1.0</td>\n",
       "      <td>-8.504</td>\n",
       "      <td>0.0</td>\n",
       "      <td>0.2390</td>\n",
       "      <td>0.014900</td>\n",
       "      <td>0.000000</td>\n",
       "      <td>0.2740</td>\n",
       "      <td>0.3290</td>\n",
       "      <td>105.038</td>\n",
       "      <td>7dx1maQh7mN7PHRTnZNFI9</td>\n",
       "      <td>231200.0</td>\n",
       "      <td>4.0</td>\n",
       "    </tr>\n",
       "    <tr>\n",
       "      <th>10792</th>\n",
       "      <td>Hero</td>\n",
       "      <td>Jessie J</td>\n",
       "      <td>spotify:track:1bZgbYc9FKJoFQ4mOQl3Pb</td>\n",
       "      <td>0.227</td>\n",
       "      <td>0.750</td>\n",
       "      <td>11.0</td>\n",
       "      <td>-7.781</td>\n",
       "      <td>1.0</td>\n",
       "      <td>0.0570</td>\n",
       "      <td>0.000156</td>\n",
       "      <td>0.007100</td>\n",
       "      <td>0.0824</td>\n",
       "      <td>0.3550</td>\n",
       "      <td>185.303</td>\n",
       "      <td>1bZgbYc9FKJoFQ4mOQl3Pb</td>\n",
       "      <td>199987.0</td>\n",
       "      <td>4.0</td>\n",
       "    </tr>\n",
       "    <tr>\n",
       "      <th>10793</th>\n",
       "      <td>Magnetic</td>\n",
       "      <td>Jessie J</td>\n",
       "      <td>spotify:track:0w8VqEISiNmug0Wm4vLyIw</td>\n",
       "      <td>0.617</td>\n",
       "      <td>0.609</td>\n",
       "      <td>4.0</td>\n",
       "      <td>-8.430</td>\n",
       "      <td>1.0</td>\n",
       "      <td>0.0496</td>\n",
       "      <td>0.006660</td>\n",
       "      <td>0.000000</td>\n",
       "      <td>0.3440</td>\n",
       "      <td>0.6610</td>\n",
       "      <td>139.978</td>\n",
       "      <td>0w8VqEISiNmug0Wm4vLyIw</td>\n",
       "      <td>234507.0</td>\n",
       "      <td>4.0</td>\n",
       "    </tr>\n",
       "    <tr>\n",
       "      <th>10794</th>\n",
       "      <td>It's My Party - All About She UKG Remix</td>\n",
       "      <td>Jessie J</td>\n",
       "      <td>spotify:track:3k7u4avgoohy92joOFz3Bz</td>\n",
       "      <td>0.815</td>\n",
       "      <td>0.714</td>\n",
       "      <td>0.0</td>\n",
       "      <td>-7.850</td>\n",
       "      <td>0.0</td>\n",
       "      <td>0.0628</td>\n",
       "      <td>0.015000</td>\n",
       "      <td>0.007390</td>\n",
       "      <td>0.0289</td>\n",
       "      <td>0.9360</td>\n",
       "      <td>130.004</td>\n",
       "      <td>3k7u4avgoohy92joOFz3Bz</td>\n",
       "      <td>224107.0</td>\n",
       "      <td>4.0</td>\n",
       "    </tr>\n",
       "  </tbody>\n",
       "</table>\n",
       "<p>10795 rows × 17 columns</p>\n",
       "</div>"
      ],
      "text/plain": [
       "                                         title                artist  \\\n",
       "0                           Hits 2020 - Mashup  Trinix Remix, Trinix   \n",
       "1                                    As It Was          Harry Styles   \n",
       "2                              About Damn Time                 Lizzo   \n",
       "3                                  Alone Again            The Weeknd   \n",
       "4                                     Too Late            The Weeknd   \n",
       "...                                        ...                   ...   \n",
       "10790                                    Alive              Jessie J   \n",
       "10791                                    Unite              Jessie J   \n",
       "10792                                     Hero              Jessie J   \n",
       "10793                                 Magnetic              Jessie J   \n",
       "10794  It's My Party - All About She UKG Remix              Jessie J   \n",
       "\n",
       "                                        uri  danceability  energy   key  \\\n",
       "0      spotify:track:45v4pDxE0VuSZOx81FtgBS         0.510   0.709   1.0   \n",
       "1      spotify:track:4LRPiXqCikLlN15c3yImP7         0.520   0.731   6.0   \n",
       "2      spotify:track:1PckUlxKqWQs3RlWXVBLw3         0.836   0.743  10.0   \n",
       "3      spotify:track:2geUtMB7UX968R11pCoXbU         0.256   0.653   6.0   \n",
       "4      spotify:track:6BSAGCfWNAlx4dVlvxx9UT         0.640   0.869   4.0   \n",
       "...                                     ...           ...     ...   ...   \n",
       "10790  spotify:track:2VthUPIyeeE7Xh31Grb609         0.604   0.604   2.0   \n",
       "10791  spotify:track:7dx1maQh7mN7PHRTnZNFI9         0.549   0.566   1.0   \n",
       "10792  spotify:track:1bZgbYc9FKJoFQ4mOQl3Pb         0.227   0.750  11.0   \n",
       "10793  spotify:track:0w8VqEISiNmug0Wm4vLyIw         0.617   0.609   4.0   \n",
       "10794  spotify:track:3k7u4avgoohy92joOFz3Bz         0.815   0.714   0.0   \n",
       "\n",
       "       loudness  mode  speechiness  acousticness  instrumentalness  liveness  \\\n",
       "0        -7.194   0.0       0.1620      0.128000          0.000015    0.0653   \n",
       "1        -5.338   0.0       0.0557      0.342000          0.001010    0.3110   \n",
       "2        -6.305   0.0       0.0656      0.099500          0.000000    0.3350   \n",
       "3        -7.972   0.0       0.0544      0.033700          0.113000    0.1680   \n",
       "4        -5.179   0.0       0.1170      0.051800          0.000119    0.6910   \n",
       "...         ...   ...          ...           ...               ...       ...   \n",
       "10790   -10.258   1.0       0.1460      0.001200          0.000060    0.1440   \n",
       "10791    -8.504   0.0       0.2390      0.014900          0.000000    0.2740   \n",
       "10792    -7.781   1.0       0.0570      0.000156          0.007100    0.0824   \n",
       "10793    -8.430   1.0       0.0496      0.006660          0.000000    0.3440   \n",
       "10794    -7.850   0.0       0.0628      0.015000          0.007390    0.0289   \n",
       "\n",
       "       valence    tempo                      id  duration_ms  time_signature  \n",
       "0       0.6620  142.510  45v4pDxE0VuSZOx81FtgBS     133591.0             5.0  \n",
       "1       0.6620  173.930  4LRPiXqCikLlN15c3yImP7     167303.0             4.0  \n",
       "2       0.7220  108.966  1PckUlxKqWQs3RlWXVBLw3     191822.0             4.0  \n",
       "3       0.0581   90.673  2geUtMB7UX968R11pCoXbU     250057.0             5.0  \n",
       "4       0.1850  120.070  6BSAGCfWNAlx4dVlvxx9UT     239980.0             4.0  \n",
       "...        ...      ...                     ...          ...             ...  \n",
       "10790   0.7220  157.961  2VthUPIyeeE7Xh31Grb609     204587.0             4.0  \n",
       "10791   0.3290  105.038  7dx1maQh7mN7PHRTnZNFI9     231200.0             4.0  \n",
       "10792   0.3550  185.303  1bZgbYc9FKJoFQ4mOQl3Pb     199987.0             4.0  \n",
       "10793   0.6610  139.978  0w8VqEISiNmug0Wm4vLyIw     234507.0             4.0  \n",
       "10794   0.9360  130.004  3k7u4avgoohy92joOFz3Bz     224107.0             4.0  \n",
       "\n",
       "[10795 rows x 17 columns]"
      ]
     },
     "execution_count": 43,
     "metadata": {},
     "output_type": "execute_result"
    }
   ],
   "source": [
    "dataframe"
   ]
  },
  {
   "cell_type": "code",
   "execution_count": 45,
   "id": "5d49ce79",
   "metadata": {},
   "outputs": [],
   "source": [
    "# I'm saving this because I'd like to skip the waiting time for next time\n",
    "dataframe.to_csv('name.csv',index=False)"
   ]
  }
 ],
 "metadata": {
  "kernelspec": {
   "display_name": "Python 3 (ipykernel)",
   "language": "python",
   "name": "python3"
  },
  "language_info": {
   "codemirror_mode": {
    "name": "ipython",
    "version": 3
   },
   "file_extension": ".py",
   "mimetype": "text/x-python",
   "name": "python",
   "nbconvert_exporter": "python",
   "pygments_lexer": "ipython3",
   "version": "3.10.6"
  }
 },
 "nbformat": 4,
 "nbformat_minor": 5
}
